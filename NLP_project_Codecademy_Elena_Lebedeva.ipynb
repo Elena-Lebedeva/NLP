{
 "cells": [
  {
   "cell_type": "markdown",
   "id": "ce7f6f17",
   "metadata": {},
   "source": [
    "# NLP project for Codecademy by Elena Lebedeva"
   ]
  },
  {
   "cell_type": "markdown",
   "id": "c3037687",
   "metadata": {},
   "source": [
    "In this project, we will be analyzing text message data using Natural Language Processing techniques and libraries."
   ]
  },
  {
   "cell_type": "markdown",
   "id": "a37ac357",
   "metadata": {},
   "source": [
    "Project Objectives:\n",
    "- Work locally using own machine\n",
    "- Import and look over dataset\n",
    "- Conduct text-preprocessing.\n",
    "- Plan and conduct any number of NLP techniques to analyze and gain insight into the data.\n",
    "\n",
    "These techniques can include:\n",
    "- Language Parsing\n",
    "- Word Vectorization\n",
    "- Language Modeling\n",
    "- Topic Modeling\n",
    "- Checking Similarity\n",
    "- Sentiment Analysis\n",
    "- POS Tagging\n",
    "- Named Entity Recognition"
   ]
  },
  {
   "cell_type": "markdown",
   "id": "c5cf7a2c",
   "metadata": {},
   "source": [
    "### Importing and looking over dataset"
   ]
  },
  {
   "cell_type": "markdown",
   "id": "7139530d",
   "metadata": {},
   "source": [
    "We start from improting libraries, dataset and analysing the getting the notion how is dataset is organized and if it needed to be cleaned."
   ]
  },
  {
   "cell_type": "code",
   "execution_count": 37,
   "id": "ec9a6969",
   "metadata": {},
   "outputs": [],
   "source": [
    "import numpy as np\n",
    "import pandas as pd\n",
    "import nltk   \n",
    "import matplotlib.pyplot as plt\n",
    "\n",
    "import re                                  # library for regular expression operations\n",
    "import string                              # for string operations\n",
    "\n",
    "from collections import Counter\n",
    "\n",
    "from nltk.corpus import stopwords          # module for stop words that come with NLTK\n",
    "from nltk.stem import PorterStemmer        # module for stemming\n",
    "from nltk.tokenize import PunktSentenceTokenizer, word_tokenize, sent_tokenize \n",
    "from nltk import ngrams                    # module for tokenizing strings\n",
    "from wordcloud import WordCloud\n",
    "from nltk import pos_tag, RegexpParser    #  to pasre and tag the parts of speech\n",
    "stop_words = nltk.corpus.stopwords.words('english')"
   ]
  },
  {
   "cell_type": "code",
   "execution_count": 3,
   "id": "f7f27e76",
   "metadata": {},
   "outputs": [],
   "source": [
    "df = pd.read_csv('clean_nus_sms.csv')"
   ]
  },
  {
   "cell_type": "code",
   "execution_count": 4,
   "id": "cc439b75",
   "metadata": {},
   "outputs": [
    {
     "data": {
      "text/html": [
       "<div>\n",
       "<style scoped>\n",
       "    .dataframe tbody tr th:only-of-type {\n",
       "        vertical-align: middle;\n",
       "    }\n",
       "\n",
       "    .dataframe tbody tr th {\n",
       "        vertical-align: top;\n",
       "    }\n",
       "\n",
       "    .dataframe thead th {\n",
       "        text-align: right;\n",
       "    }\n",
       "</style>\n",
       "<table border=\"1\" class=\"dataframe\">\n",
       "  <thead>\n",
       "    <tr style=\"text-align: right;\">\n",
       "      <th></th>\n",
       "      <th>Unnamed: 0</th>\n",
       "      <th>id</th>\n",
       "      <th>Message</th>\n",
       "      <th>length</th>\n",
       "      <th>country</th>\n",
       "      <th>Date</th>\n",
       "    </tr>\n",
       "  </thead>\n",
       "  <tbody>\n",
       "    <tr>\n",
       "      <th>44063</th>\n",
       "      <td>50417</td>\n",
       "      <td>40301</td>\n",
       "      <td>Lolwtf where btw</td>\n",
       "      <td>16</td>\n",
       "      <td>Singapore</td>\n",
       "      <td>2011/12</td>\n",
       "    </tr>\n",
       "    <tr>\n",
       "      <th>31586</th>\n",
       "      <td>34740</td>\n",
       "      <td>24624</td>\n",
       "      <td>Eh? Haha it's okay le.</td>\n",
       "      <td>22</td>\n",
       "      <td>Singapore</td>\n",
       "      <td>2011/4</td>\n",
       "    </tr>\n",
       "    <tr>\n",
       "      <th>14508</th>\n",
       "      <td>15673</td>\n",
       "      <td>5557</td>\n",
       "      <td>Its k..</td>\n",
       "      <td>7</td>\n",
       "      <td>India</td>\n",
       "      <td>2011/1</td>\n",
       "    </tr>\n",
       "    <tr>\n",
       "      <th>14910</th>\n",
       "      <td>16169</td>\n",
       "      <td>6053</td>\n",
       "      <td>Hi da:)how is the todays class?</td>\n",
       "      <td>31</td>\n",
       "      <td>India</td>\n",
       "      <td>2011/2</td>\n",
       "    </tr>\n",
       "    <tr>\n",
       "      <th>47640</th>\n",
       "      <td>54715</td>\n",
       "      <td>44599</td>\n",
       "      <td>Well I love you =)</td>\n",
       "      <td>18</td>\n",
       "      <td>USA</td>\n",
       "      <td>2014/9</td>\n",
       "    </tr>\n",
       "    <tr>\n",
       "      <th>48178</th>\n",
       "      <td>55380</td>\n",
       "      <td>45264</td>\n",
       "      <td>hai da... see u tommorow</td>\n",
       "      <td>24</td>\n",
       "      <td>INDIA</td>\n",
       "      <td>2014/11</td>\n",
       "    </tr>\n",
       "    <tr>\n",
       "      <th>43118</th>\n",
       "      <td>49438</td>\n",
       "      <td>39322</td>\n",
       "      <td>Nope! Tmr how ah!</td>\n",
       "      <td>17</td>\n",
       "      <td>Singapore</td>\n",
       "      <td>2011/12</td>\n",
       "    </tr>\n",
       "    <tr>\n",
       "      <th>9894</th>\n",
       "      <td>10230</td>\n",
       "      <td>114</td>\n",
       "      <td>U didnt lyk dat i askd coding only na</td>\n",
       "      <td>37</td>\n",
       "      <td>India</td>\n",
       "      <td>2010/11</td>\n",
       "    </tr>\n",
       "    <tr>\n",
       "      <th>1591</th>\n",
       "      <td>1642</td>\n",
       "      <td>11762</td>\n",
       "      <td>s up...</td>\n",
       "      <td>7</td>\n",
       "      <td>SG</td>\n",
       "      <td>2003/4</td>\n",
       "    </tr>\n",
       "    <tr>\n",
       "      <th>26267</th>\n",
       "      <td>28981</td>\n",
       "      <td>18865</td>\n",
       "      <td>i take one as breadth, the other as gek lor.U ...</td>\n",
       "      <td>125</td>\n",
       "      <td>Singapore</td>\n",
       "      <td>2011/3</td>\n",
       "    </tr>\n",
       "  </tbody>\n",
       "</table>\n",
       "</div>"
      ],
      "text/plain": [
       "       Unnamed: 0     id                                            Message  \\\n",
       "44063       50417  40301                                   Lolwtf where btw   \n",
       "31586       34740  24624                             Eh? Haha it's okay le.   \n",
       "14508       15673   5557                                            Its k..   \n",
       "14910       16169   6053                    Hi da:)how is the todays class?   \n",
       "47640       54715  44599                                 Well I love you =)   \n",
       "48178       55380  45264                           hai da... see u tommorow   \n",
       "43118       49438  39322                                  Nope! Tmr how ah!   \n",
       "9894        10230    114              U didnt lyk dat i askd coding only na   \n",
       "1591         1642  11762                                            s up...   \n",
       "26267       28981  18865  i take one as breadth, the other as gek lor.U ...   \n",
       "\n",
       "      length    country     Date  \n",
       "44063     16  Singapore  2011/12  \n",
       "31586     22  Singapore   2011/4  \n",
       "14508      7      India   2011/1  \n",
       "14910     31      India   2011/2  \n",
       "47640     18        USA   2014/9  \n",
       "48178     24      INDIA  2014/11  \n",
       "43118     17  Singapore  2011/12  \n",
       "9894      37      India  2010/11  \n",
       "1591       7         SG   2003/4  \n",
       "26267    125  Singapore   2011/3  "
      ]
     },
     "execution_count": 4,
     "metadata": {},
     "output_type": "execute_result"
    }
   ],
   "source": [
    "df.sample(10)"
   ]
  },
  {
   "cell_type": "code",
   "execution_count": 5,
   "id": "93626ef8",
   "metadata": {},
   "outputs": [
    {
     "name": "stdout",
     "output_type": "stream",
     "text": [
      "<class 'pandas.core.frame.DataFrame'>\n",
      "RangeIndex: 48598 entries, 0 to 48597\n",
      "Data columns (total 6 columns):\n",
      " #   Column      Non-Null Count  Dtype \n",
      "---  ------      --------------  ----- \n",
      " 0   Unnamed: 0  48598 non-null  int64 \n",
      " 1   id          48598 non-null  int64 \n",
      " 2   Message     48595 non-null  object\n",
      " 3   length      48598 non-null  object\n",
      " 4   country     48598 non-null  object\n",
      " 5   Date        48598 non-null  object\n",
      "dtypes: int64(2), object(4)\n",
      "memory usage: 2.2+ MB\n"
     ]
    }
   ],
   "source": [
    "df.info()"
   ]
  },
  {
   "cell_type": "code",
   "execution_count": 47,
   "id": "58f92c1d",
   "metadata": {},
   "outputs": [
    {
     "data": {
      "text/html": [
       "<style  type=\"text/css\" >\n",
       "#T_3b1a3_row0_col0,#T_3b1a3_row1_col0,#T_3b1a3_row2_col0,#T_3b1a3_row3_col0,#T_3b1a3_row4_col0,#T_3b1a3_row5_col0,#T_3b1a3_row6_col0,#T_3b1a3_row7_col0{\n",
       "            background-color:  #f7fbff;\n",
       "            color:  #000000;\n",
       "        }</style><table id=\"T_3b1a3_\" ><thead>    <tr>        <th class=\"blank level0\" ></th>        <th class=\"col_heading level0 col0\" >0</th>    </tr></thead><tbody>\n",
       "                <tr>\n",
       "                        <th id=\"T_3b1a3_level0_row0\" class=\"row_heading level0 row0\" >Unnamed: 0</th>\n",
       "                        <td id=\"T_3b1a3_row0_col0\" class=\"data row0 col0\" >0.0000</td>\n",
       "            </tr>\n",
       "            <tr>\n",
       "                        <th id=\"T_3b1a3_level0_row1\" class=\"row_heading level0 row1\" >id</th>\n",
       "                        <td id=\"T_3b1a3_row1_col0\" class=\"data row1 col0\" >0.0000</td>\n",
       "            </tr>\n",
       "            <tr>\n",
       "                        <th id=\"T_3b1a3_level0_row2\" class=\"row_heading level0 row2\" >Message</th>\n",
       "                        <td id=\"T_3b1a3_row2_col0\" class=\"data row2 col0\" >0.0000</td>\n",
       "            </tr>\n",
       "            <tr>\n",
       "                        <th id=\"T_3b1a3_level0_row3\" class=\"row_heading level0 row3\" >length</th>\n",
       "                        <td id=\"T_3b1a3_row3_col0\" class=\"data row3 col0\" >0.0000</td>\n",
       "            </tr>\n",
       "            <tr>\n",
       "                        <th id=\"T_3b1a3_level0_row4\" class=\"row_heading level0 row4\" >country</th>\n",
       "                        <td id=\"T_3b1a3_row4_col0\" class=\"data row4 col0\" >0.0000</td>\n",
       "            </tr>\n",
       "            <tr>\n",
       "                        <th id=\"T_3b1a3_level0_row5\" class=\"row_heading level0 row5\" >Date</th>\n",
       "                        <td id=\"T_3b1a3_row5_col0\" class=\"data row5 col0\" >0.0000</td>\n",
       "            </tr>\n",
       "            <tr>\n",
       "                        <th id=\"T_3b1a3_level0_row6\" class=\"row_heading level0 row6\" >month_year</th>\n",
       "                        <td id=\"T_3b1a3_row6_col0\" class=\"data row6 col0\" >0.0000</td>\n",
       "            </tr>\n",
       "            <tr>\n",
       "                        <th id=\"T_3b1a3_level0_row7\" class=\"row_heading level0 row7\" >Message_processed</th>\n",
       "                        <td id=\"T_3b1a3_row7_col0\" class=\"data row7 col0\" >0.0000</td>\n",
       "            </tr>\n",
       "    </tbody></table>"
      ],
      "text/plain": [
       "<pandas.io.formats.style.Styler at 0x1c4d20ca070>"
      ]
     },
     "execution_count": 47,
     "metadata": {},
     "output_type": "execute_result"
    }
   ],
   "source": [
    "pd.DataFrame(round((df.isna().mean()*100),3)).style.background_gradient(cmap='Blues').format('{:.4f}')"
   ]
  },
  {
   "cell_type": "markdown",
   "id": "d6482b3b",
   "metadata": {},
   "source": [
    "We have almost 50K row of data on SMS with the information on its id, length, country, date and message itself. As our main interest is the text data, we will delete the rows where text is empty. "
   ]
  },
  {
   "cell_type": "code",
   "execution_count": 46,
   "id": "25c2ea04",
   "metadata": {},
   "outputs": [],
   "source": [
    "df = df.dropna(subset=['Message', 'length'])"
   ]
  },
  {
   "cell_type": "code",
   "execution_count": 48,
   "id": "497ca7a0",
   "metadata": {},
   "outputs": [
    {
     "data": {
      "text/plain": [
       "0"
      ]
     },
     "execution_count": 48,
     "metadata": {},
     "output_type": "execute_result"
    }
   ],
   "source": [
    "df.duplicated().sum()"
   ]
  },
  {
   "cell_type": "markdown",
   "id": "1548d7f6",
   "metadata": {},
   "source": [
    "We have no dublicates and next step is to change some datatypes to the appropriate ones, such as length and date, as initially they have type 'object'."
   ]
  },
  {
   "cell_type": "code",
   "execution_count": 49,
   "id": "42fd00da",
   "metadata": {},
   "outputs": [],
   "source": [
    "df['length']= pd.to_numeric(df['length'], errors='coerce')"
   ]
  },
  {
   "cell_type": "code",
   "execution_count": 50,
   "id": "f874196b",
   "metadata": {},
   "outputs": [],
   "source": [
    "df['Date'] = pd.to_datetime(df['Date'], format='%Y/%m').dt.strftime('%m/%Y')\n",
    "df['Date'] = pd.to_datetime(df['Date'])"
   ]
  },
  {
   "cell_type": "code",
   "execution_count": 51,
   "id": "44acbbae",
   "metadata": {},
   "outputs": [
    {
     "data": {
      "text/html": [
       "<style  type=\"text/css\" >\n",
       "#T_b94ad_row0_col0{\n",
       "            background-color:  #08306b;\n",
       "            color:  #f1f1f1;\n",
       "        }#T_b94ad_row1_col0{\n",
       "            background-color:  #ccdff1;\n",
       "            color:  #000000;\n",
       "        }#T_b94ad_row2_col0{\n",
       "            background-color:  #d5e5f4;\n",
       "            color:  #000000;\n",
       "        }#T_b94ad_row3_col0{\n",
       "            background-color:  #f2f7fd;\n",
       "            color:  #000000;\n",
       "        }#T_b94ad_row4_col0,#T_b94ad_row5_col0{\n",
       "            background-color:  #f3f8fe;\n",
       "            color:  #000000;\n",
       "        }#T_b94ad_row6_col0{\n",
       "            background-color:  #f5f9fe;\n",
       "            color:  #000000;\n",
       "        }#T_b94ad_row7_col0,#T_b94ad_row8_col0,#T_b94ad_row9_col0{\n",
       "            background-color:  #f7fbff;\n",
       "            color:  #000000;\n",
       "        }</style><table id=\"T_b94ad_\" ><thead>    <tr>        <th class=\"blank level0\" ></th>        <th class=\"col_heading level0 col0\" >country</th>    </tr></thead><tbody>\n",
       "                <tr>\n",
       "                        <th id=\"T_b94ad_level0_row0\" class=\"row_heading level0 row0\" >Singapore</th>\n",
       "                        <td id=\"T_b94ad_row0_col0\" class=\"data row0 col0\" >31814</td>\n",
       "            </tr>\n",
       "            <tr>\n",
       "                        <th id=\"T_b94ad_level0_row1\" class=\"row_heading level0 row1\" >India</th>\n",
       "                        <td id=\"T_b94ad_row1_col0\" class=\"data row1 col0\" >7085</td>\n",
       "            </tr>\n",
       "            <tr>\n",
       "                        <th id=\"T_b94ad_level0_row2\" class=\"row_heading level0 row2\" >United States</th>\n",
       "                        <td id=\"T_b94ad_row2_col0\" class=\"data row2 col0\" >5679</td>\n",
       "            </tr>\n",
       "            <tr>\n",
       "                        <th id=\"T_b94ad_level0_row3\" class=\"row_heading level0 row3\" >Sri Lanka</th>\n",
       "                        <td id=\"T_b94ad_row3_col0\" class=\"data row3 col0\" >1047</td>\n",
       "            </tr>\n",
       "            <tr>\n",
       "                        <th id=\"T_b94ad_level0_row4\" class=\"row_heading level0 row4\" >Malaysia</th>\n",
       "                        <td id=\"T_b94ad_row4_col0\" class=\"data row4 col0\" >767</td>\n",
       "            </tr>\n",
       "            <tr>\n",
       "                        <th id=\"T_b94ad_level0_row5\" class=\"row_heading level0 row5\" >Pakistan</th>\n",
       "                        <td id=\"T_b94ad_row5_col0\" class=\"data row5 col0\" >751</td>\n",
       "            </tr>\n",
       "            <tr>\n",
       "                        <th id=\"T_b94ad_level0_row6\" class=\"row_heading level0 row6\" >unknown</th>\n",
       "                        <td id=\"T_b94ad_row6_col0\" class=\"data row6 col0\" >602</td>\n",
       "            </tr>\n",
       "            <tr>\n",
       "                        <th id=\"T_b94ad_level0_row7\" class=\"row_heading level0 row7\" >Canada</th>\n",
       "                        <td id=\"T_b94ad_row7_col0\" class=\"data row7 col0\" >198</td>\n",
       "            </tr>\n",
       "            <tr>\n",
       "                        <th id=\"T_b94ad_level0_row8\" class=\"row_heading level0 row8\" >Bangladesh</th>\n",
       "                        <td id=\"T_b94ad_row8_col0\" class=\"data row8 col0\" >126</td>\n",
       "            </tr>\n",
       "            <tr>\n",
       "                        <th id=\"T_b94ad_level0_row9\" class=\"row_heading level0 row9\" >China</th>\n",
       "                        <td id=\"T_b94ad_row9_col0\" class=\"data row9 col0\" >107</td>\n",
       "            </tr>\n",
       "    </tbody></table>"
      ],
      "text/plain": [
       "<pandas.io.formats.style.Styler at 0x1c4d216b790>"
      ]
     },
     "execution_count": 51,
     "metadata": {},
     "output_type": "execute_result"
    }
   ],
   "source": [
    "df['country'].value_counts().head(10).to_frame().style.background_gradient(cmap='Blues')"
   ]
  },
  {
   "cell_type": "markdown",
   "id": "5b1a4365",
   "metadata": {},
   "source": [
    "We have some contry names written in a different way, let's change it so we can correctly count the sms amount per country."
   ]
  },
  {
   "cell_type": "code",
   "execution_count": 52,
   "id": "d272f06d",
   "metadata": {},
   "outputs": [],
   "source": [
    "df.loc[df['country'] == 'SG', 'country'] = 'Singapore' \n",
    "df.loc[df['country'] == 'USA', 'country'] = 'United States' \n",
    "df.loc[df['country'] == 'india', 'country'] = 'India' \n",
    "df.loc[df['country'] == 'INDIA', 'country'] = 'India' \n",
    "df.loc[df['country'] == 'UK', 'country'] = 'United Kingdom' \n",
    "df.loc[df['country'] == 'srilanka', 'country'] = 'Sri Lanka' \n",
    "df.loc[df['country'] == 'MY', 'country'] = 'Malaysia' "
   ]
  },
  {
   "cell_type": "markdown",
   "id": "4525ec9e",
   "metadata": {},
   "source": [
    "Let's check top-10 country by SMS amount in our dataset. We can see that by far they are from Singapore, but India and USA are represented numerously."
   ]
  },
  {
   "cell_type": "code",
   "execution_count": 53,
   "id": "f59eb92a",
   "metadata": {},
   "outputs": [
    {
     "data": {
      "text/html": [
       "<style  type=\"text/css\" >\n",
       "#T_413f0_row0_col0{\n",
       "            background-color:  #08306b;\n",
       "            color:  #f1f1f1;\n",
       "        }#T_413f0_row1_col0{\n",
       "            background-color:  #ccdff1;\n",
       "            color:  #000000;\n",
       "        }#T_413f0_row2_col0{\n",
       "            background-color:  #d5e5f4;\n",
       "            color:  #000000;\n",
       "        }#T_413f0_row3_col0{\n",
       "            background-color:  #f2f7fd;\n",
       "            color:  #000000;\n",
       "        }#T_413f0_row4_col0,#T_413f0_row5_col0{\n",
       "            background-color:  #f3f8fe;\n",
       "            color:  #000000;\n",
       "        }#T_413f0_row6_col0{\n",
       "            background-color:  #f5f9fe;\n",
       "            color:  #000000;\n",
       "        }#T_413f0_row7_col0,#T_413f0_row8_col0,#T_413f0_row9_col0{\n",
       "            background-color:  #f7fbff;\n",
       "            color:  #000000;\n",
       "        }</style><table id=\"T_413f0_\" ><thead>    <tr>        <th class=\"blank level0\" ></th>        <th class=\"col_heading level0 col0\" >country</th>    </tr></thead><tbody>\n",
       "                <tr>\n",
       "                        <th id=\"T_413f0_level0_row0\" class=\"row_heading level0 row0\" >Singapore</th>\n",
       "                        <td id=\"T_413f0_row0_col0\" class=\"data row0 col0\" >31814</td>\n",
       "            </tr>\n",
       "            <tr>\n",
       "                        <th id=\"T_413f0_level0_row1\" class=\"row_heading level0 row1\" >India</th>\n",
       "                        <td id=\"T_413f0_row1_col0\" class=\"data row1 col0\" >7085</td>\n",
       "            </tr>\n",
       "            <tr>\n",
       "                        <th id=\"T_413f0_level0_row2\" class=\"row_heading level0 row2\" >United States</th>\n",
       "                        <td id=\"T_413f0_row2_col0\" class=\"data row2 col0\" >5679</td>\n",
       "            </tr>\n",
       "            <tr>\n",
       "                        <th id=\"T_413f0_level0_row3\" class=\"row_heading level0 row3\" >Sri Lanka</th>\n",
       "                        <td id=\"T_413f0_row3_col0\" class=\"data row3 col0\" >1047</td>\n",
       "            </tr>\n",
       "            <tr>\n",
       "                        <th id=\"T_413f0_level0_row4\" class=\"row_heading level0 row4\" >Malaysia</th>\n",
       "                        <td id=\"T_413f0_row4_col0\" class=\"data row4 col0\" >767</td>\n",
       "            </tr>\n",
       "            <tr>\n",
       "                        <th id=\"T_413f0_level0_row5\" class=\"row_heading level0 row5\" >Pakistan</th>\n",
       "                        <td id=\"T_413f0_row5_col0\" class=\"data row5 col0\" >751</td>\n",
       "            </tr>\n",
       "            <tr>\n",
       "                        <th id=\"T_413f0_level0_row6\" class=\"row_heading level0 row6\" >unknown</th>\n",
       "                        <td id=\"T_413f0_row6_col0\" class=\"data row6 col0\" >602</td>\n",
       "            </tr>\n",
       "            <tr>\n",
       "                        <th id=\"T_413f0_level0_row7\" class=\"row_heading level0 row7\" >Canada</th>\n",
       "                        <td id=\"T_413f0_row7_col0\" class=\"data row7 col0\" >198</td>\n",
       "            </tr>\n",
       "            <tr>\n",
       "                        <th id=\"T_413f0_level0_row8\" class=\"row_heading level0 row8\" >Bangladesh</th>\n",
       "                        <td id=\"T_413f0_row8_col0\" class=\"data row8 col0\" >126</td>\n",
       "            </tr>\n",
       "            <tr>\n",
       "                        <th id=\"T_413f0_level0_row9\" class=\"row_heading level0 row9\" >China</th>\n",
       "                        <td id=\"T_413f0_row9_col0\" class=\"data row9 col0\" >107</td>\n",
       "            </tr>\n",
       "    </tbody></table>"
      ],
      "text/plain": [
       "<pandas.io.formats.style.Styler at 0x1c4d02c7b50>"
      ]
     },
     "execution_count": 53,
     "metadata": {},
     "output_type": "execute_result"
    }
   ],
   "source": [
    "top_ten = df['country'].value_counts().head(10)\n",
    "top_ten.to_frame().style.background_gradient(cmap='Blues')"
   ]
  },
  {
   "cell_type": "code",
   "execution_count": 54,
   "id": "41084e30",
   "metadata": {},
   "outputs": [
    {
     "data": {
      "image/png": "[encoded data removed]",
      "text/plain": [
       "<Figure size 432x288 with 1 Axes>"
      ]
     },
     "metadata": {
      "needs_background": "light"
     },
     "output_type": "display_data"
    }
   ],
   "source": [
    "top_ten.plot.bar(grid=True, title=\"Sms amount per country\", legend=False\n",
    ")\n",
    "plt.xlabel('countries')\n",
    "plt.ylabel('sms amount')\n",
    "plt.show()"
   ]
  },
  {
   "cell_type": "markdown",
   "id": "9d371adb",
   "metadata": {},
   "source": [
    "Let's see the distribution of the SMS length."
   ]
  },
  {
   "cell_type": "code",
   "execution_count": 55,
   "id": "4fdbfd6f",
   "metadata": {},
   "outputs": [
    {
     "data": {
      "image/png": "[encoded data removed]",
      "text/plain": [
       "<Figure size 432x288 with 1 Axes>"
      ]
     },
     "metadata": {
      "needs_background": "light"
     },
     "output_type": "display_data"
    }
   ],
   "source": [
    "df['length'].value_counts().hist(bins=25)\n",
    "plt.show() "
   ]
  },
  {
   "cell_type": "markdown",
   "id": "f88c32e8",
   "metadata": {},
   "source": [
    "The vast mayority of SMS are less than 200 characters, which is understandable. A single SMS message technically supports up to 160 characters."
   ]
  },
  {
   "cell_type": "code",
   "execution_count": 56,
   "id": "3f7f3783",
   "metadata": {},
   "outputs": [
    {
     "data": {
      "text/plain": [
       "(0.091, 182.8]    47280\n",
       "(182.8, 364.6]     1159\n",
       "(364.6, 546.4]      128\n",
       "(546.4, 728.2]       18\n",
       "(728.2, 910.0]        6\n",
       "Name: length, dtype: int64"
      ]
     },
     "execution_count": 56,
     "metadata": {},
     "output_type": "execute_result"
    }
   ],
   "source": [
    "pd.cut(df['length'], bins=5).value_counts()"
   ]
  },
  {
   "cell_type": "markdown",
   "id": "03640af2",
   "metadata": {},
   "source": [
    "Let's take a look on the timeline of our data."
   ]
  },
  {
   "cell_type": "code",
   "execution_count": 57,
   "id": "a8383725",
   "metadata": {},
   "outputs": [
    {
     "data": {
      "text/plain": [
       "Timestamp('2003-04-01 00:00:00')"
      ]
     },
     "execution_count": 57,
     "metadata": {},
     "output_type": "execute_result"
    }
   ],
   "source": [
    "df['Date'].min()"
   ]
  },
  {
   "cell_type": "code",
   "execution_count": 58,
   "id": "54c2fec1",
   "metadata": {},
   "outputs": [
    {
     "data": {
      "text/plain": [
       "Timestamp('2015-03-01 00:00:00')"
      ]
     },
     "execution_count": 58,
     "metadata": {},
     "output_type": "execute_result"
    }
   ],
   "source": [
    "df['Date'].max()"
   ]
  },
  {
   "cell_type": "markdown",
   "id": "745c0075",
   "metadata": {},
   "source": [
    "We have sms from April 2003 till March 2015."
   ]
  },
  {
   "cell_type": "code",
   "execution_count": 59,
   "id": "a2276ead",
   "metadata": {},
   "outputs": [
    {
     "data": {
      "text/html": [
       "<style  type=\"text/css\" >\n",
       "#T_768f2_row0_col0{\n",
       "            background-color:  #08306b;\n",
       "            color:  #f1f1f1;\n",
       "        }#T_768f2_row1_col0{\n",
       "            background-color:  #084184;\n",
       "            color:  #f1f1f1;\n",
       "        }#T_768f2_row2_col0{\n",
       "            background-color:  #63a8d3;\n",
       "            color:  #000000;\n",
       "        }#T_768f2_row3_col0{\n",
       "            background-color:  #68acd5;\n",
       "            color:  #000000;\n",
       "        }#T_768f2_row4_col0{\n",
       "            background-color:  #a5cde3;\n",
       "            color:  #000000;\n",
       "        }#T_768f2_row5_col0{\n",
       "            background-color:  #b2d2e8;\n",
       "            color:  #000000;\n",
       "        }#T_768f2_row6_col0{\n",
       "            background-color:  #b3d3e8;\n",
       "            color:  #000000;\n",
       "        }#T_768f2_row7_col0{\n",
       "            background-color:  #d4e4f4;\n",
       "            color:  #000000;\n",
       "        }#T_768f2_row8_col0{\n",
       "            background-color:  #f0f6fd;\n",
       "            color:  #000000;\n",
       "        }#T_768f2_row9_col0{\n",
       "            background-color:  #f7fbff;\n",
       "            color:  #000000;\n",
       "        }</style><table id=\"T_768f2_\" ><thead>    <tr>        <th class=\"blank level0\" ></th>        <th class=\"col_heading level0 col0\" >month_year</th>    </tr></thead><tbody>\n",
       "                <tr>\n",
       "                        <th id=\"T_768f2_level0_row0\" class=\"row_heading level0 row0\" >2011-03</th>\n",
       "                        <td id=\"T_768f2_row0_col0\" class=\"data row0 col0\" >10434</td>\n",
       "            </tr>\n",
       "            <tr>\n",
       "                        <th id=\"T_768f2_level0_row1\" class=\"row_heading level0 row1\" >2003-04</th>\n",
       "                        <td id=\"T_768f2_row1_col0\" class=\"data row1 col0\" >9804</td>\n",
       "            </tr>\n",
       "            <tr>\n",
       "                        <th id=\"T_768f2_level0_row2\" class=\"row_heading level0 row2\" >2011-04</th>\n",
       "                        <td id=\"T_768f2_row2_col0\" class=\"data row2 col0\" >5752</td>\n",
       "            </tr>\n",
       "            <tr>\n",
       "                        <th id=\"T_768f2_level0_row3\" class=\"row_heading level0 row3\" >2011-12</th>\n",
       "                        <td id=\"T_768f2_row3_col0\" class=\"data row3 col0\" >5597</td>\n",
       "            </tr>\n",
       "            <tr>\n",
       "                        <th id=\"T_768f2_level0_row4\" class=\"row_heading level0 row4\" >2011-11</th>\n",
       "                        <td id=\"T_768f2_row4_col0\" class=\"data row4 col0\" >4040</td>\n",
       "            </tr>\n",
       "            <tr>\n",
       "                        <th id=\"T_768f2_level0_row5\" class=\"row_heading level0 row5\" >2011-01</th>\n",
       "                        <td id=\"T_768f2_row5_col0\" class=\"data row5 col0\" >3647</td>\n",
       "            </tr>\n",
       "            <tr>\n",
       "                        <th id=\"T_768f2_level0_row6\" class=\"row_heading level0 row6\" >2011-02</th>\n",
       "                        <td id=\"T_768f2_row6_col0\" class=\"data row6 col0\" >3633</td>\n",
       "            </tr>\n",
       "            <tr>\n",
       "                        <th id=\"T_768f2_level0_row7\" class=\"row_heading level0 row7\" >2014-09</th>\n",
       "                        <td id=\"T_768f2_row7_col0\" class=\"data row7 col0\" >2322</td>\n",
       "            </tr>\n",
       "            <tr>\n",
       "                        <th id=\"T_768f2_level0_row8\" class=\"row_heading level0 row8\" >2010-11</th>\n",
       "                        <td id=\"T_768f2_row8_col0\" class=\"data row8 col0\" >917</td>\n",
       "            </tr>\n",
       "            <tr>\n",
       "                        <th id=\"T_768f2_level0_row9\" class=\"row_heading level0 row9\" >2010-12</th>\n",
       "                        <td id=\"T_768f2_row9_col0\" class=\"data row9 col0\" >562</td>\n",
       "            </tr>\n",
       "    </tbody></table>"
      ],
      "text/plain": [
       "<pandas.io.formats.style.Styler at 0x1c483994bb0>"
      ]
     },
     "execution_count": 59,
     "metadata": {},
     "output_type": "execute_result"
    }
   ],
   "source": [
    "# creting additional column with month and year information and checking periods with highest amount\n",
    "df['month_year'] = pd.to_datetime(df['Date']).dt.to_period('M')\n",
    "df['month_year'].value_counts().head(10).to_frame().style.background_gradient(cmap='Blues')"
   ]
  },
  {
   "cell_type": "markdown",
   "id": "280a6c6c",
   "metadata": {},
   "source": [
    "The highest amount of SMS we have in March 2022, it is 10 K, so around 20% of all, this month is followed by April 2003 with the similar amount and other months and years would have less representation, some months within the period has no data, as we can see in the plot below. "
   ]
  },
  {
   "cell_type": "code",
   "execution_count": 60,
   "id": "c435eb04",
   "metadata": {},
   "outputs": [
    {
     "data": {
      "image/png": "[encoded data removed]",
      "text/plain": [
       "<Figure size 432x288 with 1 Axes>"
      ]
     },
     "metadata": {
      "needs_background": "light"
     },
     "output_type": "display_data"
    }
   ],
   "source": [
    "df.groupby('month_year')['country'].agg(['count']).plot(\n",
    "    grid=True, title=\"sms amount by month_year\", legend=False\n",
    ")\n",
    "plt.xlabel('years')\n",
    "plt.ylabel('sms_amount')\n",
    "plt.show()"
   ]
  },
  {
   "cell_type": "markdown",
   "id": "e308ce2b",
   "metadata": {},
   "source": [
    "If we take a look on the average lenght of SMS by country, the longest SMS in dataset are from Canada and Sri Lanka, with around 100 characters, meanwhile Singapore and USA have around 55."
   ]
  },
  {
   "cell_type": "code",
   "execution_count": 61,
   "id": "f945b423",
   "metadata": {},
   "outputs": [
    {
     "data": {
      "text/html": [
       "<style  type=\"text/css\" >\n",
       "#T_132d1_row0_col0{\n",
       "            background-color:  #f6faff;\n",
       "            color:  #000000;\n",
       "        }#T_132d1_row0_col1,#T_132d1_row4_col0{\n",
       "            background-color:  #08306b;\n",
       "            color:  #f1f1f1;\n",
       "        }#T_132d1_row1_col0{\n",
       "            background-color:  #f1f7fd;\n",
       "            color:  #000000;\n",
       "        }#T_132d1_row1_col1{\n",
       "            background-color:  #125da6;\n",
       "            color:  #f1f1f1;\n",
       "        }#T_132d1_row2_col0,#T_132d1_row3_col0,#T_132d1_row5_col0,#T_132d1_row7_col0,#T_132d1_row9_col0,#T_132d1_row9_col1{\n",
       "            background-color:  #f7fbff;\n",
       "            color:  #000000;\n",
       "        }#T_132d1_row2_col1{\n",
       "            background-color:  #1a68ae;\n",
       "            color:  #f1f1f1;\n",
       "        }#T_132d1_row3_col1{\n",
       "            background-color:  #84bcdb;\n",
       "            color:  #000000;\n",
       "        }#T_132d1_row4_col1{\n",
       "            background-color:  #e1edf8;\n",
       "            color:  #000000;\n",
       "        }#T_132d1_row5_col1{\n",
       "            background-color:  #e6f0f9;\n",
       "            color:  #000000;\n",
       "        }#T_132d1_row6_col0{\n",
       "            background-color:  #d4e4f4;\n",
       "            color:  #000000;\n",
       "        }#T_132d1_row6_col1{\n",
       "            background-color:  #e8f1fa;\n",
       "            color:  #000000;\n",
       "        }#T_132d1_row7_col1{\n",
       "            background-color:  #eaf2fb;\n",
       "            color:  #000000;\n",
       "        }#T_132d1_row8_col0,#T_132d1_row8_col1{\n",
       "            background-color:  #f2f8fd;\n",
       "            color:  #000000;\n",
       "        }</style><table id=\"T_132d1_\" ><thead>    <tr>        <th class=\"blank level0\" ></th>        <th class=\"col_heading level0 col0\" >count</th>        <th class=\"col_heading level0 col1\" >mean</th>    </tr>    <tr>        <th class=\"index_name level0\" >country</th>        <th class=\"blank\" ></th>        <th class=\"blank\" ></th>    </tr></thead><tbody>\n",
       "                <tr>\n",
       "                        <th id=\"T_132d1_level0_row0\" class=\"row_heading level0 row0\" >Canada</th>\n",
       "                        <td id=\"T_132d1_row0_col0\" class=\"data row0 col0\" >198.00</td>\n",
       "                        <td id=\"T_132d1_row0_col1\" class=\"data row0 col1\" >103.78</td>\n",
       "            </tr>\n",
       "            <tr>\n",
       "                        <th id=\"T_132d1_level0_row1\" class=\"row_heading level0 row1\" >Sri Lanka</th>\n",
       "                        <td id=\"T_132d1_row1_col0\" class=\"data row1 col0\" >1047.00</td>\n",
       "                        <td id=\"T_132d1_row1_col1\" class=\"data row1 col1\" >94.49</td>\n",
       "            </tr>\n",
       "            <tr>\n",
       "                        <th id=\"T_132d1_level0_row2\" class=\"row_heading level0 row2\" >Macedonia</th>\n",
       "                        <td id=\"T_132d1_row2_col0\" class=\"data row2 col0\" >10.00</td>\n",
       "                        <td id=\"T_132d1_row2_col1\" class=\"data row2 col1\" >92.20</td>\n",
       "            </tr>\n",
       "            <tr>\n",
       "                        <th id=\"T_132d1_level0_row3\" class=\"row_heading level0 row3\" >Ghana</th>\n",
       "                        <td id=\"T_132d1_row3_col0\" class=\"data row3 col0\" >18.00</td>\n",
       "                        <td id=\"T_132d1_row3_col1\" class=\"data row3 col1\" >73.50</td>\n",
       "            </tr>\n",
       "            <tr>\n",
       "                        <th id=\"T_132d1_level0_row4\" class=\"row_heading level0 row4\" >Singapore</th>\n",
       "                        <td id=\"T_132d1_row4_col0\" class=\"data row4 col0\" >31814.00</td>\n",
       "                        <td id=\"T_132d1_row4_col1\" class=\"data row4 col1\" >56.00</td>\n",
       "            </tr>\n",
       "            <tr>\n",
       "                        <th id=\"T_132d1_level0_row5\" class=\"row_heading level0 row5\" >Nigeria</th>\n",
       "                        <td id=\"T_132d1_row5_col0\" class=\"data row5 col0\" >10.00</td>\n",
       "                        <td id=\"T_132d1_row5_col1\" class=\"data row5 col1\" >54.60</td>\n",
       "            </tr>\n",
       "            <tr>\n",
       "                        <th id=\"T_132d1_level0_row6\" class=\"row_heading level0 row6\" >United States</th>\n",
       "                        <td id=\"T_132d1_row6_col0\" class=\"data row6 col0\" >5679.00</td>\n",
       "                        <td id=\"T_132d1_row6_col1\" class=\"data row6 col1\" >53.98</td>\n",
       "            </tr>\n",
       "            <tr>\n",
       "                        <th id=\"T_132d1_level0_row7\" class=\"row_heading level0 row7\" >China</th>\n",
       "                        <td id=\"T_132d1_row7_col0\" class=\"data row7 col0\" >107.00</td>\n",
       "                        <td id=\"T_132d1_row7_col1\" class=\"data row7 col1\" >53.65</td>\n",
       "            </tr>\n",
       "            <tr>\n",
       "                        <th id=\"T_132d1_level0_row8\" class=\"row_heading level0 row8\" >Malaysia</th>\n",
       "                        <td id=\"T_132d1_row8_col0\" class=\"data row8 col0\" >767.00</td>\n",
       "                        <td id=\"T_132d1_row8_col1\" class=\"data row8 col1\" >51.25</td>\n",
       "            </tr>\n",
       "            <tr>\n",
       "                        <th id=\"T_132d1_level0_row9\" class=\"row_heading level0 row9\" >Slovenia</th>\n",
       "                        <td id=\"T_132d1_row9_col0\" class=\"data row9 col0\" >10.00</td>\n",
       "                        <td id=\"T_132d1_row9_col1\" class=\"data row9 col1\" >49.90</td>\n",
       "            </tr>\n",
       "    </tbody></table>"
      ],
      "text/plain": [
       "<pandas.io.formats.style.Styler at 0x1c4d58e28e0>"
      ]
     },
     "execution_count": 61,
     "metadata": {},
     "output_type": "execute_result"
    }
   ],
   "source": [
    "count_by_sms_length = df.groupby('country')['length'].agg(['count' ,'mean']).sort_values(by='mean',ascending=False)\n",
    "count_by_sms_length.head(10).style.background_gradient(cmap='Blues').format('{:.2f}')"
   ]
  },
  {
   "cell_type": "markdown",
   "id": "4935f34f",
   "metadata": {},
   "source": [
    "The countris with the shortest SMS are Morocco with 10 characters, New Zeland and Nepal with 18. However, the amount of SMS from these countries is very low."
   ]
  },
  {
   "cell_type": "code",
   "execution_count": 62,
   "id": "51cb52b9",
   "metadata": {},
   "outputs": [
    {
     "data": {
      "text/html": [
       "<style  type=\"text/css\" >\n",
       "#T_68002_row0_col0{\n",
       "            background-color:  #87bddc;\n",
       "            color:  #000000;\n",
       "        }#T_68002_row0_col1,#T_68002_row2_col0{\n",
       "            background-color:  #08306b;\n",
       "            color:  #f1f1f1;\n",
       "        }#T_68002_row1_col0,#T_68002_row3_col0{\n",
       "            background-color:  #f1f7fd;\n",
       "            color:  #000000;\n",
       "        }#T_68002_row1_col1{\n",
       "            background-color:  #084082;\n",
       "            color:  #f1f1f1;\n",
       "        }#T_68002_row2_col1{\n",
       "            background-color:  #6aaed6;\n",
       "            color:  #000000;\n",
       "        }#T_68002_row3_col1{\n",
       "            background-color:  #74b3d8;\n",
       "            color:  #000000;\n",
       "        }#T_68002_row4_col0,#T_68002_row4_col1{\n",
       "            background-color:  #f7fbff;\n",
       "            color:  #000000;\n",
       "        }</style><table id=\"T_68002_\" ><thead>    <tr>        <th class=\"blank level0\" ></th>        <th class=\"col_heading level0 col0\" >count</th>        <th class=\"col_heading level0 col1\" >mean</th>    </tr>    <tr>        <th class=\"index_name level0\" >country</th>        <th class=\"blank\" ></th>        <th class=\"blank\" ></th>    </tr></thead><tbody>\n",
       "                <tr>\n",
       "                        <th id=\"T_68002_level0_row0\" class=\"row_heading level0 row0\" >Serbia</th>\n",
       "                        <td id=\"T_68002_row0_col0\" class=\"data row0 col0\" >22.00</td>\n",
       "                        <td id=\"T_68002_row0_col1\" class=\"data row0 col1\" >25.00</td>\n",
       "            </tr>\n",
       "            <tr>\n",
       "                        <th id=\"T_68002_level0_row1\" class=\"row_heading level0 row1\" >Turkey</th>\n",
       "                        <td id=\"T_68002_row1_col0\" class=\"data row1 col0\" >10.00</td>\n",
       "                        <td id=\"T_68002_row1_col1\" class=\"data row1 col1\" >24.20</td>\n",
       "            </tr>\n",
       "            <tr>\n",
       "                        <th id=\"T_68002_level0_row2\" class=\"row_heading level0 row2\" >Nepal</th>\n",
       "                        <td id=\"T_68002_row2_col0\" class=\"data row2 col0\" >39.00</td>\n",
       "                        <td id=\"T_68002_row2_col1\" class=\"data row2 col1\" >18.44</td>\n",
       "            </tr>\n",
       "            <tr>\n",
       "                        <th id=\"T_68002_level0_row3\" class=\"row_heading level0 row3\" >New Zealand</th>\n",
       "                        <td id=\"T_68002_row3_col0\" class=\"data row3 col0\" >10.00</td>\n",
       "                        <td id=\"T_68002_row3_col1\" class=\"data row3 col1\" >18.10</td>\n",
       "            </tr>\n",
       "            <tr>\n",
       "                        <th id=\"T_68002_level0_row4\" class=\"row_heading level0 row4\" >Morocco</th>\n",
       "                        <td id=\"T_68002_row4_col0\" class=\"data row4 col0\" >9.00</td>\n",
       "                        <td id=\"T_68002_row4_col1\" class=\"data row4 col1\" >11.78</td>\n",
       "            </tr>\n",
       "    </tbody></table>"
      ],
      "text/plain": [
       "<pandas.io.formats.style.Styler at 0x1c4827573d0>"
      ]
     },
     "execution_count": 62,
     "metadata": {},
     "output_type": "execute_result"
    }
   ],
   "source": [
    "count_by_sms_length.tail(5).style.background_gradient(cmap='Blues').format('{:.2f}')"
   ]
  },
  {
   "cell_type": "markdown",
   "id": "0ab805d6",
   "metadata": {},
   "source": [
    "Now that we have looked at our dataset and cleaned it a littele bit, let's start working with SMS messages text data from SMS."
   ]
  },
  {
   "cell_type": "markdown",
   "id": "99dada27",
   "metadata": {},
   "source": [
    "# Preprocess raw text"
   ]
  },
  {
   "cell_type": "markdown",
   "id": "72a30f88",
   "metadata": {},
   "source": [
    "Let's preprocess our text messages into cleaned stemmed words."
   ]
  },
  {
   "cell_type": "code",
   "execution_count": 63,
   "id": "b556f033",
   "metadata": {},
   "outputs": [],
   "source": [
    "# this function will preprosee the raw data\n",
    "\n",
    "def preprocess(raw_text):\n",
    "    \n",
    "    #regular expression keeping only letters \n",
    "    letters_only_text = re.sub(\"[^a-zA-Z]\", \" \", raw_text)\n",
    "\n",
    "    # convert to lower case and split into words -> convert string into list ( 'hello world' -> ['hello', 'world'])\n",
    "    words = letters_only_text.lower().split()\n",
    "    \n",
    "    stemmer = PorterStemmer()\n",
    "\n",
    "    # stemmer\n",
    "    stemmed_words = []\n",
    "    for word in words:\n",
    "        if word not in stop_words:\n",
    "            word = stemmer.stem(word)\n",
    "            stemmed_words.append(word)\n",
    "    \n",
    "    # converting list back to string\n",
    "    return \" \".join(stemmed_words)"
   ]
  },
  {
   "cell_type": "markdown",
   "id": "afbab7e5",
   "metadata": {},
   "source": [
    "Testing our function in one message: it will remove numbers, punctuation, capital letters, stop words, \"chop\" words into stemmed words (so, for example, singular and plural forms of the same word will be the same)."
   ]
  },
  {
   "cell_type": "code",
   "execution_count": 64,
   "id": "21c9d8f4",
   "metadata": {},
   "outputs": [
    {
     "name": "stdout",
     "output_type": "stream",
     "text": [
      "I dunno until when... Lets go learn pilates...\n",
      "dunno let go learn pilat\n"
     ]
    }
   ],
   "source": [
    "test_sentence = df['Message'][2]\n",
    "print(test_sentence)\n",
    "print(preprocess(test_sentence))"
   ]
  },
  {
   "cell_type": "markdown",
   "id": "951d4464",
   "metadata": {},
   "source": [
    "We gonna create a new column with the copy of texts and will apply the preprocess function to it, so the original sms are kept in case we need them."
   ]
  },
  {
   "cell_type": "code",
   "execution_count": 65,
   "id": "55578d44",
   "metadata": {},
   "outputs": [],
   "source": [
    "df[\"Message_processed\"] = df[\"Message\"]\n",
    "df[\"Message_processed\"] = df[\"Message_processed\"].apply(preprocess)"
   ]
  },
  {
   "cell_type": "code",
   "execution_count": 66,
   "id": "976f6c33",
   "metadata": {},
   "outputs": [
    {
     "data": {
      "text/html": [
       "<div>\n",
       "<style scoped>\n",
       "    .dataframe tbody tr th:only-of-type {\n",
       "        vertical-align: middle;\n",
       "    }\n",
       "\n",
       "    .dataframe tbody tr th {\n",
       "        vertical-align: top;\n",
       "    }\n",
       "\n",
       "    .dataframe thead th {\n",
       "        text-align: right;\n",
       "    }\n",
       "</style>\n",
       "<table border=\"1\" class=\"dataframe\">\n",
       "  <thead>\n",
       "    <tr style=\"text-align: right;\">\n",
       "      <th></th>\n",
       "      <th>Unnamed: 0</th>\n",
       "      <th>id</th>\n",
       "      <th>Message</th>\n",
       "      <th>length</th>\n",
       "      <th>country</th>\n",
       "      <th>Date</th>\n",
       "      <th>month_year</th>\n",
       "      <th>Message_processed</th>\n",
       "    </tr>\n",
       "  </thead>\n",
       "  <tbody>\n",
       "    <tr>\n",
       "      <th>25961</th>\n",
       "      <td>28670</td>\n",
       "      <td>18554</td>\n",
       "      <td>Haha..kk.. where u all eating? Can I join?:p</td>\n",
       "      <td>44.0</td>\n",
       "      <td>Singapore</td>\n",
       "      <td>2011-03-01</td>\n",
       "      <td>2011-03</td>\n",
       "      <td>haha kk u eat join p</td>\n",
       "    </tr>\n",
       "    <tr>\n",
       "      <th>47547</th>\n",
       "      <td>54592</td>\n",
       "      <td>44476</td>\n",
       "      <td>Why are you up? Lol</td>\n",
       "      <td>19.0</td>\n",
       "      <td>United States</td>\n",
       "      <td>2014-09-01</td>\n",
       "      <td>2014-09</td>\n",
       "      <td>lol</td>\n",
       "    </tr>\n",
       "    <tr>\n",
       "      <th>34960</th>\n",
       "      <td>38466</td>\n",
       "      <td>28350</td>\n",
       "      <td>why you didn't text me yesterday</td>\n",
       "      <td>32.0</td>\n",
       "      <td>India</td>\n",
       "      <td>2011-08-01</td>\n",
       "      <td>2011-08</td>\n",
       "      <td>text yesterday</td>\n",
       "    </tr>\n",
       "    <tr>\n",
       "      <th>42247</th>\n",
       "      <td>48487</td>\n",
       "      <td>38371</td>\n",
       "      <td>Ohh ~ I fell asleep hahaha ohh then how!</td>\n",
       "      <td>45.0</td>\n",
       "      <td>Singapore</td>\n",
       "      <td>2011-12-01</td>\n",
       "      <td>2011-12</td>\n",
       "      <td>ohh fell asleep hahaha ohh</td>\n",
       "    </tr>\n",
       "    <tr>\n",
       "      <th>48252</th>\n",
       "      <td>55457</td>\n",
       "      <td>45341</td>\n",
       "      <td>hows the class n all going</td>\n",
       "      <td>26.0</td>\n",
       "      <td>India</td>\n",
       "      <td>2014-12-01</td>\n",
       "      <td>2014-12</td>\n",
       "      <td>how class n go</td>\n",
       "    </tr>\n",
       "  </tbody>\n",
       "</table>\n",
       "</div>"
      ],
      "text/plain": [
       "       Unnamed: 0     id                                       Message  \\\n",
       "25961       28670  18554  Haha..kk.. where u all eating? Can I join?:p   \n",
       "47547       54592  44476                           Why are you up? Lol   \n",
       "34960       38466  28350              why you didn't text me yesterday   \n",
       "42247       48487  38371      Ohh ~ I fell asleep hahaha ohh then how!   \n",
       "48252       55457  45341                    hows the class n all going   \n",
       "\n",
       "       length        country       Date month_year           Message_processed  \n",
       "25961    44.0      Singapore 2011-03-01    2011-03        haha kk u eat join p  \n",
       "47547    19.0  United States 2014-09-01    2014-09                         lol  \n",
       "34960    32.0          India 2011-08-01    2011-08              text yesterday  \n",
       "42247    45.0      Singapore 2011-12-01    2011-12  ohh fell asleep hahaha ohh  \n",
       "48252    26.0          India 2014-12-01    2014-12              how class n go  "
      ]
     },
     "execution_count": 66,
     "metadata": {},
     "output_type": "execute_result"
    }
   ],
   "source": [
    "df.sample(5)"
   ]
  },
  {
   "cell_type": "markdown",
   "id": "f10a26a1",
   "metadata": {},
   "source": [
    "Now we have a column with preprocessed sms texts, we will create out of it some lists with diferent structures o, as we will need them to work later."
   ]
  },
  {
   "cell_type": "code",
   "execution_count": 70,
   "id": "d3ea5b6a",
   "metadata": {},
   "outputs": [],
   "source": [
    "# this is one list of list with tokens from sms (each list inside list is a sms)\n",
    "list_tokenized_sentences = []\n",
    "for i in range(len(df['Message_processed'])):\n",
    "        try: \n",
    "            tokenized_sentence =df['Message_processed'][i].split()\n",
    "            list_tokenized_sentences.append(tokenized_sentence)\n",
    "        except: \n",
    "            continue"
   ]
  },
  {
   "cell_type": "code",
   "execution_count": 71,
   "id": "21412749",
   "metadata": {},
   "outputs": [
    {
     "data": {
      "text/plain": [
       "[['bugi', 'oso', 'near', 'wat'],\n",
       " ['go',\n",
       "  'jurong',\n",
       "  'point',\n",
       "  'crazi',\n",
       "  'avail',\n",
       "  'bugi',\n",
       "  'n',\n",
       "  'great',\n",
       "  'world',\n",
       "  'la',\n",
       "  'e',\n",
       "  'buffet',\n",
       "  'cine',\n",
       "  'got',\n",
       "  'amor',\n",
       "  'wat'],\n",
       " ['dunno', 'let', 'go', 'learn', 'pilat']]"
      ]
     },
     "execution_count": 71,
     "metadata": {},
     "output_type": "execute_result"
    }
   ],
   "source": [
    "list_tokenized_sentences[:3]"
   ]
  },
  {
   "cell_type": "code",
   "execution_count": 75,
   "id": "86e928eb",
   "metadata": {},
   "outputs": [
    {
     "data": {
      "text/plain": [
       "['bugi',\n",
       " 'oso',\n",
       " 'near',\n",
       " 'wat',\n",
       " 'go',\n",
       " 'jurong',\n",
       " 'point',\n",
       " 'crazi',\n",
       " 'avail',\n",
       " 'bugi']"
      ]
     },
     "execution_count": 75,
     "metadata": {},
     "output_type": "execute_result"
    }
   ],
   "source": [
    "# this is one list made of all tokens from sms (each element is a tokenized word)\n",
    "list_tokenized_words = \" \".join(df[\"Message_processed\"]).split()\n",
    "list_tokenized_words[:10]"
   ]
  },
  {
   "cell_type": "code",
   "execution_count": 76,
   "id": "57c99818",
   "metadata": {},
   "outputs": [
    {
     "data": {
      "text/plain": [
       "['bugi oso near wat',\n",
       " 'go jurong point crazi avail bugi n great world la e buffet cine got amor wat',\n",
       " 'dunno let go learn pilat']"
      ]
     },
     "execution_count": 76,
     "metadata": {},
     "output_type": "execute_result"
    }
   ],
   "source": [
    "# this is one list where each element is tokenized sms \n",
    "sms_one_list = df[\"Message_processed\"].tolist() \n",
    "sms_one_list[:3]"
   ]
  },
  {
   "cell_type": "code",
   "execution_count": 78,
   "id": "fe8e7b65",
   "metadata": {},
   "outputs": [],
   "source": [
    "# this is the whole corpus of all sms all together as if it was one written piece\n",
    "sms_all_string = \" \".join(sms_one_list) # all sms together as if it was one text\n",
    "sms_all_merged = []\n",
    "sms_all_merged.append(sms_all_string)\n",
    "# sms_all_merged in one string, it will starts such as this:\n",
    "# >> ['bugi oso near wat go jurong point crazi avail bugi n great world la e buffet cine got amor wat dunno let go learn pilat"
   ]
  },
  {
   "cell_type": "markdown",
   "id": "c4489942",
   "metadata": {},
   "source": [
    "## NATURAL LANGUAGE PARSING WITH REGULAR EXPRESSIONS\n",
    "### Chunking"
   ]
  },
  {
   "cell_type": "markdown",
   "id": "da3e67b6",
   "metadata": {},
   "source": [
    "Chunking is used to see the specific grammar structures which can provide us with insights on the text data. To perform it, we have to tag each word with it's part of the speech, search for the specific structure using Regular Expression and count them so we can see the frequency.\n",
    "\n",
    "So let's tag all the tokens with it's part of the speech."
   ]
  },
  {
   "cell_type": "code",
   "execution_count": 79,
   "id": "5d0a4904",
   "metadata": {},
   "outputs": [
    {
     "data": {
      "text/plain": [
       "[('bugi', 'NN'), ('oso', 'NN'), ('near', 'IN'), ('wat', 'NN'), ('go', 'VBP')]"
      ]
     },
     "execution_count": 79,
     "metadata": {},
     "output_type": "execute_result"
    }
   ],
   "source": [
    "# nltk.download('averaged_perceptron_tagger') - this can be needed\n",
    "\n",
    "# create a list to hold part-of-speech tagged (pos) sentences here\n",
    "pos_tagged = pos_tag(list_tokenized_words) # list_tokenized_words\n",
    "pos_tagged[:7]"
   ]
  },
  {
   "cell_type": "markdown",
   "id": "9413339a",
   "metadata": {},
   "source": [
    "NN means noun, VB is a verb form, JJ is adjective, etc. \n",
    "Full alphabetical list of part-of-speech tags :\n",
    "https://www.ling.upenn.edu/courses/Fall_2003/ling001/penn_treebank_pos.html"
   ]
  },
  {
   "cell_type": "code",
   "execution_count": 84,
   "id": "46e6a3ff",
   "metadata": {},
   "outputs": [],
   "source": [
    "# function that pulls chunks out of chunked sentence and finds the most common chunks\n",
    "\n",
    "def chunk_counter(chunked_sentences):\n",
    "    # create a list to hold chunks\n",
    "    chunks = []\n",
    "\n",
    "    # for-loop through each chunked sentence to extract noun phrase chunks\n",
    "    for chunked_sentence in chunked_sentences:\n",
    "        for subtree in chunked_sentence.subtrees(filter=lambda t: t.label() == 'Chunk'):\n",
    "            chunks.append(tuple(subtree))\n",
    "\n",
    "    # create a Counter object\n",
    "    chunk_counter = Counter()\n",
    "\n",
    "    # for-loop through the list of chunks\n",
    "    for chunk in chunks:\n",
    "        # increase counter of specific chunk by 1\n",
    "        chunk_counter[chunk] += 1\n",
    "\n",
    "    # return most frequent chunks\n",
    "    return chunk_counter.most_common(20)\n",
    "\n",
    "def chunking(chunk_grammar):\n",
    "    # create RegexpParser object\n",
    "    chunk_parser = RegexpParser(chunk_grammar)\n",
    "\n",
    "    # create a list to hold chunked sentences\n",
    "    chunked_sent = []\n",
    "\n",
    "    # chunk each sentence and append to chunked_sms\n",
    "    chunked_sent.append(chunk_parser.parse(pos_tagged))\n",
    "\n",
    "    # store and print the most common chunks\n",
    "    most_common_chunks = chunk_counter(chunked_sent)\n",
    "    chunks_counter_df = pd.DataFrame (most_common_chunks, columns = ['chunk', \"frequency\"])\n",
    "    return chunks_counter_df\n"
   ]
  },
  {
   "cell_type": "markdown",
   "id": "32525965",
   "metadata": {},
   "source": [
    "Now we have a functrion to pull chunks, we will try several different grammatical structures: verb phrase, noun phrase and a bit more complex verb phrase."
   ]
  },
  {
   "cell_type": "code",
   "execution_count": 85,
   "id": "6131ea90",
   "metadata": {},
   "outputs": [
    {
     "data": {
      "text/html": [
       "<div>\n",
       "<style scoped>\n",
       "    .dataframe tbody tr th:only-of-type {\n",
       "        vertical-align: middle;\n",
       "    }\n",
       "\n",
       "    .dataframe tbody tr th {\n",
       "        vertical-align: top;\n",
       "    }\n",
       "\n",
       "    .dataframe thead th {\n",
       "        text-align: right;\n",
       "    }\n",
       "</style>\n",
       "<table border=\"1\" class=\"dataframe\">\n",
       "  <thead>\n",
       "    <tr style=\"text-align: right;\">\n",
       "      <th></th>\n",
       "      <th>chunk</th>\n",
       "      <th>frequency</th>\n",
       "    </tr>\n",
       "  </thead>\n",
       "  <tbody>\n",
       "    <tr>\n",
       "      <th>0</th>\n",
       "      <td>((go, VBP), (home, NN))</td>\n",
       "      <td>140</td>\n",
       "    </tr>\n",
       "    <tr>\n",
       "      <th>1</th>\n",
       "      <td>((take, VBP), (care, NN))</td>\n",
       "      <td>70</td>\n",
       "    </tr>\n",
       "    <tr>\n",
       "      <th>2</th>\n",
       "      <td>((take, VB), (care, NN))</td>\n",
       "      <td>66</td>\n",
       "    </tr>\n",
       "    <tr>\n",
       "      <th>3</th>\n",
       "      <td>((reach, VBP), (home, NN))</td>\n",
       "      <td>50</td>\n",
       "    </tr>\n",
       "    <tr>\n",
       "      <th>4</th>\n",
       "      <td>((come, VBN), (home, NN))</td>\n",
       "      <td>43</td>\n",
       "    </tr>\n",
       "    <tr>\n",
       "      <th>5</th>\n",
       "      <td>((got, VBD), (time, NN))</td>\n",
       "      <td>35</td>\n",
       "    </tr>\n",
       "    <tr>\n",
       "      <th>6</th>\n",
       "      <td>((go, VBP), (shop, NN))</td>\n",
       "      <td>31</td>\n",
       "    </tr>\n",
       "    <tr>\n",
       "      <th>7</th>\n",
       "      <td>((want, VBP), (eat, NN))</td>\n",
       "      <td>28</td>\n",
       "    </tr>\n",
       "    <tr>\n",
       "      <th>8</th>\n",
       "      <td>((go, VB), (home, NN))</td>\n",
       "      <td>28</td>\n",
       "    </tr>\n",
       "    <tr>\n",
       "      <th>9</th>\n",
       "      <td>((want, VBP), (meet, NN))</td>\n",
       "      <td>28</td>\n",
       "    </tr>\n",
       "    <tr>\n",
       "      <th>10</th>\n",
       "      <td>((go, VBP), (eat, NN))</td>\n",
       "      <td>28</td>\n",
       "    </tr>\n",
       "    <tr>\n",
       "      <th>11</th>\n",
       "      <td>((got, VBD), (thing, NN))</td>\n",
       "      <td>23</td>\n",
       "    </tr>\n",
       "    <tr>\n",
       "      <th>12</th>\n",
       "      <td>((want, VBP), (see, NN))</td>\n",
       "      <td>20</td>\n",
       "    </tr>\n",
       "    <tr>\n",
       "      <th>13</th>\n",
       "      <td>((come, VBP), (home, NN))</td>\n",
       "      <td>20</td>\n",
       "    </tr>\n",
       "    <tr>\n",
       "      <th>14</th>\n",
       "      <td>((go, VBP), (slp, JJ), (le, NN))</td>\n",
       "      <td>20</td>\n",
       "    </tr>\n",
       "    <tr>\n",
       "      <th>15</th>\n",
       "      <td>((want, VBP), (watch, NN))</td>\n",
       "      <td>18</td>\n",
       "    </tr>\n",
       "    <tr>\n",
       "      <th>16</th>\n",
       "      <td>((go, VBP), (school, NN))</td>\n",
       "      <td>17</td>\n",
       "    </tr>\n",
       "    <tr>\n",
       "      <th>17</th>\n",
       "      <td>((got, VBD), (job, NN))</td>\n",
       "      <td>17</td>\n",
       "    </tr>\n",
       "    <tr>\n",
       "      <th>18</th>\n",
       "      <td>((go, VBP), (today, NN))</td>\n",
       "      <td>16</td>\n",
       "    </tr>\n",
       "    <tr>\n",
       "      <th>19</th>\n",
       "      <td>((take, VB), (bu, NN))</td>\n",
       "      <td>16</td>\n",
       "    </tr>\n",
       "  </tbody>\n",
       "</table>\n",
       "</div>"
      ],
      "text/plain": [
       "                               chunk  frequency\n",
       "0            ((go, VBP), (home, NN))        140\n",
       "1          ((take, VBP), (care, NN))         70\n",
       "2           ((take, VB), (care, NN))         66\n",
       "3         ((reach, VBP), (home, NN))         50\n",
       "4          ((come, VBN), (home, NN))         43\n",
       "5           ((got, VBD), (time, NN))         35\n",
       "6            ((go, VBP), (shop, NN))         31\n",
       "7           ((want, VBP), (eat, NN))         28\n",
       "8             ((go, VB), (home, NN))         28\n",
       "9          ((want, VBP), (meet, NN))         28\n",
       "10            ((go, VBP), (eat, NN))         28\n",
       "11         ((got, VBD), (thing, NN))         23\n",
       "12          ((want, VBP), (see, NN))         20\n",
       "13         ((come, VBP), (home, NN))         20\n",
       "14  ((go, VBP), (slp, JJ), (le, NN))         20\n",
       "15        ((want, VBP), (watch, NN))         18\n",
       "16         ((go, VBP), (school, NN))         17\n",
       "17           ((got, VBD), (job, NN))         17\n",
       "18          ((go, VBP), (today, NN))         16\n",
       "19            ((take, VB), (bu, NN))         16"
      ]
     },
     "execution_count": 85,
     "metadata": {},
     "output_type": "execute_result"
    }
   ],
   "source": [
    "#  verb phrase\n",
    "# <VB.*> ensures matching verbs of any tense \n",
    "# (ex. VB for present tense, VBD for past tense, or VBN for past participle)\n",
    "\n",
    "chunk_grammar = \"Chunk: {<VB.*><DT>?<JJ>*<NN><RB.?>?}\"\n",
    "chunking(chunk_grammar)"
   ]
  },
  {
   "cell_type": "markdown",
   "id": "e6e45894",
   "metadata": {},
   "source": [
    "In top 20 verb phrese from our SMS we can observe, that people mainly use it to communicate the information (or ask for it) about about going home (several verbs such as come, go, reach are used), they express quite a lot wishing to take care. Also we can see frequent chunks about geting time, going shopping and eating,  meetings/seeing proposals, going to school or getting a job. It shows an instrumental use of SMS for notifiyng, asking and offering. "
   ]
  },
  {
   "cell_type": "code",
   "execution_count": 86,
   "id": "bfd2af5d",
   "metadata": {},
   "outputs": [
    {
     "data": {
      "text/html": [
       "<div>\n",
       "<style scoped>\n",
       "    .dataframe tbody tr th:only-of-type {\n",
       "        vertical-align: middle;\n",
       "    }\n",
       "\n",
       "    .dataframe tbody tr th {\n",
       "        vertical-align: top;\n",
       "    }\n",
       "\n",
       "    .dataframe thead th {\n",
       "        text-align: right;\n",
       "    }\n",
       "</style>\n",
       "<table border=\"1\" class=\"dataframe\">\n",
       "  <thead>\n",
       "    <tr style=\"text-align: right;\">\n",
       "      <th></th>\n",
       "      <th>chunk</th>\n",
       "      <th>frequency</th>\n",
       "    </tr>\n",
       "  </thead>\n",
       "  <tbody>\n",
       "    <tr>\n",
       "      <th>0</th>\n",
       "      <td>((u, JJ), (r, NN))</td>\n",
       "      <td>191</td>\n",
       "    </tr>\n",
       "    <tr>\n",
       "      <th>1</th>\n",
       "      <td>((new, JJ), (year, NN))</td>\n",
       "      <td>147</td>\n",
       "    </tr>\n",
       "    <tr>\n",
       "      <th>2</th>\n",
       "      <td>((next, JJ), (time, NN))</td>\n",
       "      <td>120</td>\n",
       "    </tr>\n",
       "    <tr>\n",
       "      <th>3</th>\n",
       "      <td>((u, JJ), (wan, NN))</td>\n",
       "      <td>114</td>\n",
       "    </tr>\n",
       "    <tr>\n",
       "      <th>4</th>\n",
       "      <td>((good, JJ), (night, NN))</td>\n",
       "      <td>110</td>\n",
       "    </tr>\n",
       "    <tr>\n",
       "      <th>5</th>\n",
       "      <td>((wat, JJ), (time, NN))</td>\n",
       "      <td>107</td>\n",
       "    </tr>\n",
       "    <tr>\n",
       "      <th>6</th>\n",
       "      <td>((next, JJ), (week, NN))</td>\n",
       "      <td>94</td>\n",
       "    </tr>\n",
       "    <tr>\n",
       "      <th>7</th>\n",
       "      <td>((u, JJ), (reach, NN))</td>\n",
       "      <td>93</td>\n",
       "    </tr>\n",
       "    <tr>\n",
       "      <th>8</th>\n",
       "      <td>((last, JJ), (time, NN))</td>\n",
       "      <td>74</td>\n",
       "    </tr>\n",
       "    <tr>\n",
       "      <th>9</th>\n",
       "      <td>((good, JJ), (morn, NN))</td>\n",
       "      <td>72</td>\n",
       "    </tr>\n",
       "    <tr>\n",
       "      <th>10</th>\n",
       "      <td>((u, JJ), (ask, NN))</td>\n",
       "      <td>55</td>\n",
       "    </tr>\n",
       "    <tr>\n",
       "      <th>11</th>\n",
       "      <td>((u, JJ), (wanna, NN))</td>\n",
       "      <td>54</td>\n",
       "    </tr>\n",
       "    <tr>\n",
       "      <th>12</th>\n",
       "      <td>((good, JJ), (luck, NN))</td>\n",
       "      <td>51</td>\n",
       "    </tr>\n",
       "    <tr>\n",
       "      <th>13</th>\n",
       "      <td>((u, JJ), (get, NN))</td>\n",
       "      <td>50</td>\n",
       "    </tr>\n",
       "    <tr>\n",
       "      <th>14</th>\n",
       "      <td>((ok, JJ), (lor, NN))</td>\n",
       "      <td>49</td>\n",
       "    </tr>\n",
       "    <tr>\n",
       "      <th>15</th>\n",
       "      <td>((u, JJ), (haha, NN))</td>\n",
       "      <td>47</td>\n",
       "    </tr>\n",
       "    <tr>\n",
       "      <th>16</th>\n",
       "      <td>((u, JJ), (meet, NN))</td>\n",
       "      <td>45</td>\n",
       "    </tr>\n",
       "    <tr>\n",
       "      <th>17</th>\n",
       "      <td>((u, JJ), (eat, NN))</td>\n",
       "      <td>45</td>\n",
       "    </tr>\n",
       "    <tr>\n",
       "      <th>18</th>\n",
       "      <td>((last, JJ), (night, NN))</td>\n",
       "      <td>45</td>\n",
       "    </tr>\n",
       "    <tr>\n",
       "      <th>19</th>\n",
       "      <td>((u, JJ), (hee, NN))</td>\n",
       "      <td>45</td>\n",
       "    </tr>\n",
       "  </tbody>\n",
       "</table>\n",
       "</div>"
      ],
      "text/plain": [
       "                        chunk  frequency\n",
       "0          ((u, JJ), (r, NN))        191\n",
       "1     ((new, JJ), (year, NN))        147\n",
       "2    ((next, JJ), (time, NN))        120\n",
       "3        ((u, JJ), (wan, NN))        114\n",
       "4   ((good, JJ), (night, NN))        110\n",
       "5     ((wat, JJ), (time, NN))        107\n",
       "6    ((next, JJ), (week, NN))         94\n",
       "7      ((u, JJ), (reach, NN))         93\n",
       "8    ((last, JJ), (time, NN))         74\n",
       "9    ((good, JJ), (morn, NN))         72\n",
       "10       ((u, JJ), (ask, NN))         55\n",
       "11     ((u, JJ), (wanna, NN))         54\n",
       "12   ((good, JJ), (luck, NN))         51\n",
       "13       ((u, JJ), (get, NN))         50\n",
       "14      ((ok, JJ), (lor, NN))         49\n",
       "15      ((u, JJ), (haha, NN))         47\n",
       "16      ((u, JJ), (meet, NN))         45\n",
       "17       ((u, JJ), (eat, NN))         45\n",
       "18  ((last, JJ), (night, NN))         45\n",
       "19       ((u, JJ), (hee, NN))         45"
      ]
     },
     "execution_count": 86,
     "metadata": {},
     "output_type": "execute_result"
    }
   ],
   "source": [
    "# noun phrase (possible determiner, adjective or several, noun)\n",
    "chunk_grammar = '''Chunk: {<DT>?<JJ>+<NN>}'''\n",
    "chunking(chunk_grammar)"
   ]
  },
  {
   "cell_type": "markdown",
   "id": "0a042466",
   "metadata": {},
   "source": [
    "The close look to the noun phrases shows us different picture. We observe high frequncy of noun phrases to express the wish and desire: for the new year (most probably used in congratulations), good night and good morning wishes, also good luck wishes.  next time or next week indicates discuss of the future plans, wat (probably what) time is an instrumental questions relating to meetings and gatherings. \n",
    "We observe use of \"u\" in the noun phrases, which are supposed to show non and adjective.\"U\" is actually used to saying 'you', but our instrument is not sensitive to the slang or informal use."
   ]
  },
  {
   "cell_type": "code",
   "execution_count": 87,
   "id": "87f6532c",
   "metadata": {},
   "outputs": [
    {
     "data": {
      "text/html": [
       "<div>\n",
       "<style scoped>\n",
       "    .dataframe tbody tr th:only-of-type {\n",
       "        vertical-align: middle;\n",
       "    }\n",
       "\n",
       "    .dataframe tbody tr th {\n",
       "        vertical-align: top;\n",
       "    }\n",
       "\n",
       "    .dataframe thead th {\n",
       "        text-align: right;\n",
       "    }\n",
       "</style>\n",
       "<table border=\"1\" class=\"dataframe\">\n",
       "  <thead>\n",
       "    <tr style=\"text-align: right;\">\n",
       "      <th></th>\n",
       "      <th>chunk</th>\n",
       "      <th>frequency</th>\n",
       "    </tr>\n",
       "  </thead>\n",
       "  <tbody>\n",
       "    <tr>\n",
       "      <th>0</th>\n",
       "      <td>((go, VBP), (home, NN))</td>\n",
       "      <td>157</td>\n",
       "    </tr>\n",
       "    <tr>\n",
       "      <th>1</th>\n",
       "      <td>((take, VB), (care, NN))</td>\n",
       "      <td>73</td>\n",
       "    </tr>\n",
       "    <tr>\n",
       "      <th>2</th>\n",
       "      <td>((take, VBP), (care, NN))</td>\n",
       "      <td>72</td>\n",
       "    </tr>\n",
       "    <tr>\n",
       "      <th>3</th>\n",
       "      <td>((reach, VBP), (home, NN))</td>\n",
       "      <td>54</td>\n",
       "    </tr>\n",
       "    <tr>\n",
       "      <th>4</th>\n",
       "      <td>((come, VBN), (home, NN))</td>\n",
       "      <td>44</td>\n",
       "    </tr>\n",
       "    <tr>\n",
       "      <th>5</th>\n",
       "      <td>((go, VB), (home, NN))</td>\n",
       "      <td>40</td>\n",
       "    </tr>\n",
       "    <tr>\n",
       "      <th>6</th>\n",
       "      <td>((got, VBD), (time, NN))</td>\n",
       "      <td>35</td>\n",
       "    </tr>\n",
       "    <tr>\n",
       "      <th>7</th>\n",
       "      <td>((want, VBP), (eat, NN))</td>\n",
       "      <td>32</td>\n",
       "    </tr>\n",
       "    <tr>\n",
       "      <th>8</th>\n",
       "      <td>((go, VBP), (shop, NN))</td>\n",
       "      <td>31</td>\n",
       "    </tr>\n",
       "    <tr>\n",
       "      <th>9</th>\n",
       "      <td>((go, VBP), (eat, NN))</td>\n",
       "      <td>31</td>\n",
       "    </tr>\n",
       "    <tr>\n",
       "      <th>10</th>\n",
       "      <td>((want, VBP), (meet, NN))</td>\n",
       "      <td>31</td>\n",
       "    </tr>\n",
       "    <tr>\n",
       "      <th>11</th>\n",
       "      <td>((got, VBD), (thing, NN))</td>\n",
       "      <td>24</td>\n",
       "    </tr>\n",
       "    <tr>\n",
       "      <th>12</th>\n",
       "      <td>((go, VBP), (bath, NN))</td>\n",
       "      <td>23</td>\n",
       "    </tr>\n",
       "    <tr>\n",
       "      <th>13</th>\n",
       "      <td>((want, VBP), (see, NN))</td>\n",
       "      <td>23</td>\n",
       "    </tr>\n",
       "    <tr>\n",
       "      <th>14</th>\n",
       "      <td>((take, VB), (bu, NN))</td>\n",
       "      <td>23</td>\n",
       "    </tr>\n",
       "    <tr>\n",
       "      <th>15</th>\n",
       "      <td>((come, VBP), (home, NN))</td>\n",
       "      <td>21</td>\n",
       "    </tr>\n",
       "    <tr>\n",
       "      <th>16</th>\n",
       "      <td>((want, VBP), (watch, NN))</td>\n",
       "      <td>20</td>\n",
       "    </tr>\n",
       "    <tr>\n",
       "      <th>17</th>\n",
       "      <td>((go, VBP), (slp, JJ), (le, NN))</td>\n",
       "      <td>20</td>\n",
       "    </tr>\n",
       "    <tr>\n",
       "      <th>18</th>\n",
       "      <td>((got, VBD), (work, NN))</td>\n",
       "      <td>19</td>\n",
       "    </tr>\n",
       "    <tr>\n",
       "      <th>19</th>\n",
       "      <td>((want, VBP), (play, NN))</td>\n",
       "      <td>19</td>\n",
       "    </tr>\n",
       "  </tbody>\n",
       "</table>\n",
       "</div>"
      ],
      "text/plain": [
       "                               chunk  frequency\n",
       "0            ((go, VBP), (home, NN))        157\n",
       "1           ((take, VB), (care, NN))         73\n",
       "2          ((take, VBP), (care, NN))         72\n",
       "3         ((reach, VBP), (home, NN))         54\n",
       "4          ((come, VBN), (home, NN))         44\n",
       "5             ((go, VB), (home, NN))         40\n",
       "6           ((got, VBD), (time, NN))         35\n",
       "7           ((want, VBP), (eat, NN))         32\n",
       "8            ((go, VBP), (shop, NN))         31\n",
       "9             ((go, VBP), (eat, NN))         31\n",
       "10         ((want, VBP), (meet, NN))         31\n",
       "11         ((got, VBD), (thing, NN))         24\n",
       "12           ((go, VBP), (bath, NN))         23\n",
       "13          ((want, VBP), (see, NN))         23\n",
       "14            ((take, VB), (bu, NN))         23\n",
       "15         ((come, VBP), (home, NN))         21\n",
       "16        ((want, VBP), (watch, NN))         20\n",
       "17  ((go, VBP), (slp, JJ), (le, NN))         20\n",
       "18          ((got, VBD), (work, NN))         19\n",
       "19         ((want, VBP), (play, NN))         19"
      ]
     },
     "execution_count": 87,
     "metadata": {},
     "output_type": "execute_result"
    }
   ],
   "source": [
    "# The inverted brackets }{ indicate which parts of speech you want to filter from the chunk. \n",
    "chunk_grammar = '''Chunk: {<VB.*><DT>?<JJ>*<NN><RB.?>?}\n",
    "}<DT|IN|RB|CC>+{\n",
    "'''\n",
    "chunking(chunk_grammar)"
   ]
  },
  {
   "cell_type": "markdown",
   "id": "2aad096c",
   "metadata": {},
   "source": [
    "Here we have changed slightly the verb phrase structure using filtering, so we can see the frequencies have increased comparing to the first version. However the insights are similar to what we have already noted."
   ]
  },
  {
   "cell_type": "markdown",
   "id": "88108dbb",
   "metadata": {},
   "source": [
    "##  BAG-OF-WORDS LANGUAGE MODEL\n",
    "### Word frequency"
   ]
  },
  {
   "cell_type": "markdown",
   "id": "4eae9295",
   "metadata": {},
   "source": [
    "Now let's se the word frequency for one word, two words (bi-grams) and three words (three-grams).\n",
    "\n",
    "First, let's check which are the most frequent words in our preprocessed sms text corpus."
   ]
  },
  {
   "cell_type": "code",
   "execution_count": 88,
   "id": "b01b56a6",
   "metadata": {},
   "outputs": [
    {
     "data": {
      "text/html": [
       "<style  type=\"text/css\" >\n",
       "#T_12dce_row0_col1{\n",
       "            background-color:  #08306b;\n",
       "            color:  #f1f1f1;\n",
       "        }#T_12dce_row1_col1{\n",
       "            background-color:  #3f8fc5;\n",
       "            color:  #000000;\n",
       "        }#T_12dce_row2_col1{\n",
       "            background-color:  #94c4df;\n",
       "            color:  #000000;\n",
       "        }#T_12dce_row3_col1{\n",
       "            background-color:  #c7dcef;\n",
       "            color:  #000000;\n",
       "        }#T_12dce_row4_col1{\n",
       "            background-color:  #dceaf6;\n",
       "            color:  #000000;\n",
       "        }#T_12dce_row5_col1{\n",
       "            background-color:  #dfebf7;\n",
       "            color:  #000000;\n",
       "        }#T_12dce_row6_col1{\n",
       "            background-color:  #e4eff9;\n",
       "            color:  #000000;\n",
       "        }#T_12dce_row7_col1{\n",
       "            background-color:  #e7f1fa;\n",
       "            color:  #000000;\n",
       "        }#T_12dce_row8_col1{\n",
       "            background-color:  #edf4fc;\n",
       "            color:  #000000;\n",
       "        }#T_12dce_row9_col1{\n",
       "            background-color:  #eef5fc;\n",
       "            color:  #000000;\n",
       "        }#T_12dce_row10_col1{\n",
       "            background-color:  #eff6fc;\n",
       "            color:  #000000;\n",
       "        }#T_12dce_row11_col1{\n",
       "            background-color:  #f1f7fd;\n",
       "            color:  #000000;\n",
       "        }#T_12dce_row12_col1,#T_12dce_row13_col1{\n",
       "            background-color:  #f2f7fd;\n",
       "            color:  #000000;\n",
       "        }#T_12dce_row14_col1,#T_12dce_row15_col1{\n",
       "            background-color:  #f2f8fd;\n",
       "            color:  #000000;\n",
       "        }#T_12dce_row16_col1,#T_12dce_row17_col1{\n",
       "            background-color:  #f3f8fe;\n",
       "            color:  #000000;\n",
       "        }#T_12dce_row18_col1{\n",
       "            background-color:  #f4f9fe;\n",
       "            color:  #000000;\n",
       "        }#T_12dce_row19_col1{\n",
       "            background-color:  #f5f9fe;\n",
       "            color:  #000000;\n",
       "        }#T_12dce_row20_col1{\n",
       "            background-color:  #f5fafe;\n",
       "            color:  #000000;\n",
       "        }#T_12dce_row21_col1,#T_12dce_row22_col1,#T_12dce_row23_col1,#T_12dce_row24_col1{\n",
       "            background-color:  #f7fbff;\n",
       "            color:  #000000;\n",
       "        }</style><table id=\"T_12dce_\" ><thead>    <tr>        <th class=\"blank level0\" ></th>        <th class=\"col_heading level0 col0\" >word</th>        <th class=\"col_heading level0 col1\" >frequency</th>    </tr></thead><tbody>\n",
       "                <tr>\n",
       "                        <th id=\"T_12dce_level0_row0\" class=\"row_heading level0 row0\" >0</th>\n",
       "                        <td id=\"T_12dce_row0_col0\" class=\"data row0 col0\" >u</td>\n",
       "                        <td id=\"T_12dce_row0_col1\" class=\"data row0 col1\" >10299</td>\n",
       "            </tr>\n",
       "            <tr>\n",
       "                        <th id=\"T_12dce_level0_row1\" class=\"row_heading level0 row1\" >1</th>\n",
       "                        <td id=\"T_12dce_row1_col0\" class=\"data row1 col0\" >haha</td>\n",
       "                        <td id=\"T_12dce_row1_col1\" class=\"data row1 col1\" >7009</td>\n",
       "            </tr>\n",
       "            <tr>\n",
       "                        <th id=\"T_12dce_level0_row2\" class=\"row_heading level0 row2\" >2</th>\n",
       "                        <td id=\"T_12dce_row2_col0\" class=\"data row2 col0\" >go</td>\n",
       "                        <td id=\"T_12dce_row2_col1\" class=\"data row2 col1\" >4921</td>\n",
       "            </tr>\n",
       "            <tr>\n",
       "                        <th id=\"T_12dce_level0_row3\" class=\"row_heading level0 row3\" >3</th>\n",
       "                        <td id=\"T_12dce_row3_col0\" class=\"data row3 col0\" >lol</td>\n",
       "                        <td id=\"T_12dce_row3_col1\" class=\"data row3 col1\" >3540</td>\n",
       "            </tr>\n",
       "            <tr>\n",
       "                        <th id=\"T_12dce_level0_row4\" class=\"row_heading level0 row4\" >4</th>\n",
       "                        <td id=\"T_12dce_row4_col0\" class=\"data row4 col0\" >got</td>\n",
       "                        <td id=\"T_12dce_row4_col1\" class=\"data row4 col1\" >2548</td>\n",
       "            </tr>\n",
       "            <tr>\n",
       "                        <th id=\"T_12dce_level0_row5\" class=\"row_heading level0 row5\" >5</th>\n",
       "                        <td id=\"T_12dce_row5_col0\" class=\"data row5 col0\" >ok</td>\n",
       "                        <td id=\"T_12dce_row5_col1\" class=\"data row5 col1\" >2441</td>\n",
       "            </tr>\n",
       "            <tr>\n",
       "                        <th id=\"T_12dce_level0_row6\" class=\"row_heading level0 row6\" >6</th>\n",
       "                        <td id=\"T_12dce_row6_col0\" class=\"data row6 col0\" >time</td>\n",
       "                        <td id=\"T_12dce_row6_col1\" class=\"data row6 col1\" >2192</td>\n",
       "            </tr>\n",
       "            <tr>\n",
       "                        <th id=\"T_12dce_level0_row7\" class=\"row_heading level0 row7\" >7</th>\n",
       "                        <td id=\"T_12dce_row7_col0\" class=\"data row7 col0\" >come</td>\n",
       "                        <td id=\"T_12dce_row7_col1\" class=\"data row7 col1\" >2051</td>\n",
       "            </tr>\n",
       "            <tr>\n",
       "                        <th id=\"T_12dce_level0_row8\" class=\"row_heading level0 row8\" >8</th>\n",
       "                        <td id=\"T_12dce_row8_col0\" class=\"data row8 col0\" >hahaha</td>\n",
       "                        <td id=\"T_12dce_row8_col1\" class=\"data row8 col1\" >1822</td>\n",
       "            </tr>\n",
       "            <tr>\n",
       "                        <th id=\"T_12dce_level0_row9\" class=\"row_heading level0 row9\" >9</th>\n",
       "                        <td id=\"T_12dce_row9_col0\" class=\"data row9 col0\" >okay</td>\n",
       "                        <td id=\"T_12dce_row9_col1\" class=\"data row9 col1\" >1741</td>\n",
       "            </tr>\n",
       "            <tr>\n",
       "                        <th id=\"T_12dce_level0_row10\" class=\"row_heading level0 row10\" >10</th>\n",
       "                        <td id=\"T_12dce_row10_col0\" class=\"data row10 col0\" >ur</td>\n",
       "                        <td id=\"T_12dce_row10_col1\" class=\"data row10 col1\" >1700</td>\n",
       "            </tr>\n",
       "            <tr>\n",
       "                        <th id=\"T_12dce_level0_row11\" class=\"row_heading level0 row11\" >11</th>\n",
       "                        <td id=\"T_12dce_row11_col0\" class=\"data row11 col0\" >meet</td>\n",
       "                        <td id=\"T_12dce_row11_col1\" class=\"data row11 col1\" >1618</td>\n",
       "            </tr>\n",
       "            <tr>\n",
       "                        <th id=\"T_12dce_level0_row12\" class=\"row_heading level0 row12\" >12</th>\n",
       "                        <td id=\"T_12dce_row12_col0\" class=\"data row12 col0\" >one</td>\n",
       "                        <td id=\"T_12dce_row12_col1\" class=\"data row12 col1\" >1614</td>\n",
       "            </tr>\n",
       "            <tr>\n",
       "                        <th id=\"T_12dce_level0_row13\" class=\"row_heading level0 row13\" >13</th>\n",
       "                        <td id=\"T_12dce_row13_col0\" class=\"data row13 col0\" >get</td>\n",
       "                        <td id=\"T_12dce_row13_col1\" class=\"data row13 col1\" >1585</td>\n",
       "            </tr>\n",
       "            <tr>\n",
       "                        <th id=\"T_12dce_level0_row14\" class=\"row_heading level0 row14\" >14</th>\n",
       "                        <td id=\"T_12dce_row14_col0\" class=\"data row14 col0\" >think</td>\n",
       "                        <td id=\"T_12dce_row14_col1\" class=\"data row14 col1\" >1559</td>\n",
       "            </tr>\n",
       "            <tr>\n",
       "                        <th id=\"T_12dce_level0_row15\" class=\"row_heading level0 row15\" >15</th>\n",
       "                        <td id=\"T_12dce_row15_col0\" class=\"data row15 col0\" >le</td>\n",
       "                        <td id=\"T_12dce_row15_col1\" class=\"data row15 col1\" >1552</td>\n",
       "            </tr>\n",
       "            <tr>\n",
       "                        <th id=\"T_12dce_level0_row16\" class=\"row_heading level0 row16\" >16</th>\n",
       "                        <td id=\"T_12dce_row16_col0\" class=\"data row16 col0\" >like</td>\n",
       "                        <td id=\"T_12dce_row16_col1\" class=\"data row16 col1\" >1522</td>\n",
       "            </tr>\n",
       "            <tr>\n",
       "                        <th id=\"T_12dce_level0_row17\" class=\"row_heading level0 row17\" >17</th>\n",
       "                        <td id=\"T_12dce_row17_col0\" class=\"data row17 col0\" >oh</td>\n",
       "                        <td id=\"T_12dce_row17_col1\" class=\"data row17 col1\" >1517</td>\n",
       "            </tr>\n",
       "            <tr>\n",
       "                        <th id=\"T_12dce_level0_row18\" class=\"row_heading level0 row18\" >18</th>\n",
       "                        <td id=\"T_12dce_row18_col0\" class=\"data row18 col0\" >hey</td>\n",
       "                        <td id=\"T_12dce_row18_col1\" class=\"data row18 col1\" >1495</td>\n",
       "            </tr>\n",
       "            <tr>\n",
       "                        <th id=\"T_12dce_level0_row19\" class=\"row_heading level0 row19\" >19</th>\n",
       "                        <td id=\"T_12dce_row19_col0\" class=\"data row19 col0\" >see</td>\n",
       "                        <td id=\"T_12dce_row19_col1\" class=\"data row19 col1\" >1470</td>\n",
       "            </tr>\n",
       "            <tr>\n",
       "                        <th id=\"T_12dce_level0_row20\" class=\"row_heading level0 row20\" >20</th>\n",
       "                        <td id=\"T_12dce_row20_col0\" class=\"data row20 col0\" >want</td>\n",
       "                        <td id=\"T_12dce_row20_col1\" class=\"data row20 col1\" >1434</td>\n",
       "            </tr>\n",
       "            <tr>\n",
       "                        <th id=\"T_12dce_level0_row21\" class=\"row_heading level0 row21\" >21</th>\n",
       "                        <td id=\"T_12dce_row21_col0\" class=\"data row21 col0\" >know</td>\n",
       "                        <td id=\"T_12dce_row21_col1\" class=\"data row21 col1\" >1367</td>\n",
       "            </tr>\n",
       "            <tr>\n",
       "                        <th id=\"T_12dce_level0_row22\" class=\"row_heading level0 row22\" >22</th>\n",
       "                        <td id=\"T_12dce_row22_col0\" class=\"data row22 col0\" >need</td>\n",
       "                        <td id=\"T_12dce_row22_col1\" class=\"data row22 col1\" >1362</td>\n",
       "            </tr>\n",
       "            <tr>\n",
       "                        <th id=\"T_12dce_level0_row23\" class=\"row_heading level0 row23\" >23</th>\n",
       "                        <td id=\"T_12dce_row23_col0\" class=\"data row23 col0\" >yeah</td>\n",
       "                        <td id=\"T_12dce_row23_col1\" class=\"data row23 col1\" >1343</td>\n",
       "            </tr>\n",
       "            <tr>\n",
       "                        <th id=\"T_12dce_level0_row24\" class=\"row_heading level0 row24\" >24</th>\n",
       "                        <td id=\"T_12dce_row24_col0\" class=\"data row24 col0\" >good</td>\n",
       "                        <td id=\"T_12dce_row24_col1\" class=\"data row24 col1\" >1336</td>\n",
       "            </tr>\n",
       "    </tbody></table>"
      ],
      "text/plain": [
       "<pandas.io.formats.style.Styler at 0x1c482aca550>"
      ]
     },
     "execution_count": 88,
     "metadata": {},
     "output_type": "execute_result"
    }
   ],
   "source": [
    "#let's check the most common words in the dataframe\n",
    "word_counter_list = Counter(list_tokenized_words).most_common(25)\n",
    "word_counter_df = pd.DataFrame (word_counter_list, columns = ['word', \"frequency\"])\n",
    "word_counter_df.style.background_gradient(cmap='Blues')"
   ]
  },
  {
   "cell_type": "markdown",
   "id": "fdad6963",
   "metadata": {},
   "source": [
    "Most used words are non-cleaned informal versions \"u\" and \"ur\". They can be manually added to stopwords if we would like to exclude them.\n",
    "Other top words are \"haha\", \"lol\" and similar expressions of laugh, \"ok\", \"yeah\" and similar for agrement, and most used in everydaylife verbs such as \"go\", \"get\", \"come\", \"meet\", \"think\", \"like\", \"want\". Plus, noun \"time\" and adjective \"good\" are among top 20.\n",
    "\n",
    "Let's have a visual representation called wordcloud of those top frequent SMS words."
   ]
  },
  {
   "cell_type": "code",
   "execution_count": 89,
   "id": "2b4dfcde",
   "metadata": {},
   "outputs": [
    {
     "data": {
      "image/png": "[encoded data removed]",
      "text/plain": [
       "<Figure size 720x576 with 1 Axes>"
      ]
     },
     "metadata": {
      "needs_background": "light"
     },
     "output_type": "display_data"
    }
   ],
   "source": [
    "wordcloud = WordCloud(width = 800, height = 600, background_color ='black', min_font_size = 10).generate(sms_all_string) \n",
    "  \n",
    "# plot the WordCloud image                        \n",
    "plt.figure(figsize = (10, 8), facecolor = None) \n",
    "plt.imshow(wordcloud) \n",
    "plt.axis(\"off\") \n",
    "plt.tight_layout(pad = 0) \n",
    "  \n",
    "plt.show() "
   ]
  },
  {
   "cell_type": "markdown",
   "id": "81c7e89f",
   "metadata": {},
   "source": [
    "Now, let's take a look to the two tokens (processed words) which go togehter. "
   ]
  },
  {
   "cell_type": "code",
   "execution_count": 90,
   "id": "6a4a349a",
   "metadata": {},
   "outputs": [
    {
     "data": {
      "text/html": [
       "<div>\n",
       "<style scoped>\n",
       "    .dataframe tbody tr th:only-of-type {\n",
       "        vertical-align: middle;\n",
       "    }\n",
       "\n",
       "    .dataframe tbody tr th {\n",
       "        vertical-align: top;\n",
       "    }\n",
       "\n",
       "    .dataframe thead th {\n",
       "        text-align: right;\n",
       "    }\n",
       "</style>\n",
       "<table border=\"1\" class=\"dataframe\">\n",
       "  <thead>\n",
       "    <tr style=\"text-align: right;\">\n",
       "      <th></th>\n",
       "      <th>count</th>\n",
       "    </tr>\n",
       "  </thead>\n",
       "  <tbody>\n",
       "    <tr>\n",
       "      <th>(r, u)</th>\n",
       "      <td>387</td>\n",
       "    </tr>\n",
       "    <tr>\n",
       "      <th>(haha, okay)</th>\n",
       "      <td>376</td>\n",
       "    </tr>\n",
       "    <tr>\n",
       "      <th>(u, go)</th>\n",
       "      <td>335</td>\n",
       "    </tr>\n",
       "    <tr>\n",
       "      <th>(haha, yeah)</th>\n",
       "      <td>288</td>\n",
       "    </tr>\n",
       "    <tr>\n",
       "      <th>(wat, time)</th>\n",
       "      <td>238</td>\n",
       "    </tr>\n",
       "    <tr>\n",
       "      <th>(u, r)</th>\n",
       "      <td>235</td>\n",
       "    </tr>\n",
       "    <tr>\n",
       "      <th>(let, know)</th>\n",
       "      <td>234</td>\n",
       "    </tr>\n",
       "    <tr>\n",
       "      <th>(u, wan)</th>\n",
       "      <td>231</td>\n",
       "    </tr>\n",
       "    <tr>\n",
       "      <th>(go, home)</th>\n",
       "      <td>207</td>\n",
       "    </tr>\n",
       "    <tr>\n",
       "      <th>(love, u)</th>\n",
       "      <td>204</td>\n",
       "    </tr>\n",
       "    <tr>\n",
       "      <th>(lol, haha)</th>\n",
       "      <td>199</td>\n",
       "    </tr>\n",
       "    <tr>\n",
       "      <th>(reach, home)</th>\n",
       "      <td>198</td>\n",
       "    </tr>\n",
       "    <tr>\n",
       "      <th>(u, got)</th>\n",
       "      <td>196</td>\n",
       "    </tr>\n",
       "    <tr>\n",
       "      <th>(haha, haha)</th>\n",
       "      <td>193</td>\n",
       "    </tr>\n",
       "    <tr>\n",
       "      <th>(see, u)</th>\n",
       "      <td>185</td>\n",
       "    </tr>\n",
       "    <tr>\n",
       "      <th>(take, care)</th>\n",
       "      <td>184</td>\n",
       "    </tr>\n",
       "    <tr>\n",
       "      <th>(go, back)</th>\n",
       "      <td>181</td>\n",
       "    </tr>\n",
       "    <tr>\n",
       "      <th>(u, want)</th>\n",
       "      <td>177</td>\n",
       "    </tr>\n",
       "    <tr>\n",
       "      <th>(u, come)</th>\n",
       "      <td>176</td>\n",
       "    </tr>\n",
       "    <tr>\n",
       "      <th>(come, back)</th>\n",
       "      <td>170</td>\n",
       "    </tr>\n",
       "    <tr>\n",
       "      <th>(time, u)</th>\n",
       "      <td>167</td>\n",
       "    </tr>\n",
       "    <tr>\n",
       "      <th>(call, u)</th>\n",
       "      <td>162</td>\n",
       "    </tr>\n",
       "    <tr>\n",
       "      <th>(u, u)</th>\n",
       "      <td>157</td>\n",
       "    </tr>\n",
       "    <tr>\n",
       "      <th>(meet, u)</th>\n",
       "      <td>157</td>\n",
       "    </tr>\n",
       "    <tr>\n",
       "      <th>(new, year)</th>\n",
       "      <td>151</td>\n",
       "    </tr>\n",
       "  </tbody>\n",
       "</table>\n",
       "</div>"
      ],
      "text/plain": [
       "               count\n",
       "(r, u)           387\n",
       "(haha, okay)     376\n",
       "(u, go)          335\n",
       "(haha, yeah)     288\n",
       "(wat, time)      238\n",
       "(u, r)           235\n",
       "(let, know)      234\n",
       "(u, wan)         231\n",
       "(go, home)       207\n",
       "(love, u)        204\n",
       "(lol, haha)      199\n",
       "(reach, home)    198\n",
       "(u, got)         196\n",
       "(haha, haha)     193\n",
       "(see, u)         185\n",
       "(take, care)     184\n",
       "(go, back)       181\n",
       "(u, want)        177\n",
       "(u, come)        176\n",
       "(come, back)     170\n",
       "(time, u)        167\n",
       "(call, u)        162\n",
       "(u, u)           157\n",
       "(meet, u)        157\n",
       "(new, year)      151"
      ]
     },
     "execution_count": 90,
     "metadata": {},
     "output_type": "execute_result"
    }
   ],
   "source": [
    "# checking  most common bi-grams (two words)\n",
    "n_gram = 2\n",
    "n_gram_dic = dict(Counter(ngrams(list_tokenized_words, n_gram)))\n",
    "bigrams=pd.DataFrame.from_dict(n_gram_dic, orient='index', columns=['count']).sort_values(by='count', ascending=False).head(25)\n",
    "bigrams"
   ]
  },
  {
   "cell_type": "markdown",
   "id": "5a64d89e",
   "metadata": {},
   "source": [
    "Due to the nature of SMS, we can see that topest bi-grams (two tokens) are not the most meaningfull. However, it speaks a lot about the sms, they are short messages which, a part of instrumental information, shares emotion and works as a \"touch\", slight signal. It must be noted also that SMS are mostly from stueents, so the presence of laugh expression is very understandable.\n",
    "\n",
    "A part of what we have observed in the chunking part on instrumenatl use of verbs, communications about time and meeting purposes, express of wishes, we see some new phrases. They are \"love u\", \"come back\", \"call you\" which provide some more sentimental meanings. People susually write SMS to their family and frieds, so this makes sense."
   ]
  },
  {
   "cell_type": "code",
   "execution_count": 42,
   "id": "49430d9f",
   "metadata": {},
   "outputs": [
    {
     "data": {
      "text/html": [
       "<div>\n",
       "<style scoped>\n",
       "    .dataframe tbody tr th:only-of-type {\n",
       "        vertical-align: middle;\n",
       "    }\n",
       "\n",
       "    .dataframe tbody tr th {\n",
       "        vertical-align: top;\n",
       "    }\n",
       "\n",
       "    .dataframe thead th {\n",
       "        text-align: right;\n",
       "    }\n",
       "</style>\n",
       "<table border=\"1\" class=\"dataframe\">\n",
       "  <thead>\n",
       "    <tr style=\"text-align: right;\">\n",
       "      <th></th>\n",
       "      <th>count</th>\n",
       "    </tr>\n",
       "  </thead>\n",
       "  <tbody>\n",
       "    <tr>\n",
       "      <th>(may, ble, u)</th>\n",
       "      <td>96</td>\n",
       "    </tr>\n",
       "    <tr>\n",
       "      <th>(happi, new, year)</th>\n",
       "      <td>83</td>\n",
       "    </tr>\n",
       "    <tr>\n",
       "      <th>(wat, time, u)</th>\n",
       "      <td>75</td>\n",
       "    </tr>\n",
       "    <tr>\n",
       "      <th>(reach, home, le)</th>\n",
       "      <td>63</td>\n",
       "    </tr>\n",
       "    <tr>\n",
       "      <th>(sob, sob, sob)</th>\n",
       "      <td>58</td>\n",
       "    </tr>\n",
       "    <tr>\n",
       "      <th>(way, sm, com)</th>\n",
       "      <td>37</td>\n",
       "    </tr>\n",
       "    <tr>\n",
       "      <th>(via, way, sm)</th>\n",
       "      <td>37</td>\n",
       "    </tr>\n",
       "    <tr>\n",
       "      <th>(u, wan, go)</th>\n",
       "      <td>35</td>\n",
       "    </tr>\n",
       "    <tr>\n",
       "      <th>(sorri, late, repli)</th>\n",
       "      <td>34</td>\n",
       "    </tr>\n",
       "    <tr>\n",
       "      <th>(prais, lord, bless)</th>\n",
       "      <td>33</td>\n",
       "    </tr>\n",
       "    <tr>\n",
       "      <th>(hw, r, u)</th>\n",
       "      <td>30</td>\n",
       "    </tr>\n",
       "    <tr>\n",
       "      <th>(sent, via, way)</th>\n",
       "      <td>29</td>\n",
       "    </tr>\n",
       "    <tr>\n",
       "      <th>(lord, bless, day)</th>\n",
       "      <td>27</td>\n",
       "    </tr>\n",
       "    <tr>\n",
       "      <th>(haha, okay, okay)</th>\n",
       "      <td>27</td>\n",
       "    </tr>\n",
       "    <tr>\n",
       "      <th>(u, reach, home)</th>\n",
       "      <td>26</td>\n",
       "    </tr>\n",
       "    <tr>\n",
       "      <th>(haha, ya, lo)</th>\n",
       "      <td>26</td>\n",
       "    </tr>\n",
       "    <tr>\n",
       "      <th>(get, home, safe)</th>\n",
       "      <td>24</td>\n",
       "    </tr>\n",
       "    <tr>\n",
       "      <th>(bless, day, christ)</th>\n",
       "      <td>24</td>\n",
       "    </tr>\n",
       "    <tr>\n",
       "      <th>(x, x, haha)</th>\n",
       "      <td>23</td>\n",
       "    </tr>\n",
       "    <tr>\n",
       "      <th>(get, well, soon)</th>\n",
       "      <td>23</td>\n",
       "    </tr>\n",
       "    <tr>\n",
       "      <th>(u, r, u)</th>\n",
       "      <td>23</td>\n",
       "    </tr>\n",
       "    <tr>\n",
       "      <th>(wat, r, u)</th>\n",
       "      <td>23</td>\n",
       "    </tr>\n",
       "    <tr>\n",
       "      <th>(love, u, much)</th>\n",
       "      <td>22</td>\n",
       "    </tr>\n",
       "    <tr>\n",
       "      <th>(go, slp, le)</th>\n",
       "      <td>22</td>\n",
       "    </tr>\n",
       "    <tr>\n",
       "      <th>(love, u, dear)</th>\n",
       "      <td>21</td>\n",
       "    </tr>\n",
       "  </tbody>\n",
       "</table>\n",
       "</div>"
      ],
      "text/plain": [
       "                      count\n",
       "(may, ble, u)            96\n",
       "(happi, new, year)       83\n",
       "(wat, time, u)           75\n",
       "(reach, home, le)        63\n",
       "(sob, sob, sob)          58\n",
       "(way, sm, com)           37\n",
       "(via, way, sm)           37\n",
       "(u, wan, go)             35\n",
       "(sorri, late, repli)     34\n",
       "(prais, lord, bless)     33\n",
       "(hw, r, u)               30\n",
       "(sent, via, way)         29\n",
       "(lord, bless, day)       27\n",
       "(haha, okay, okay)       27\n",
       "(u, reach, home)         26\n",
       "(haha, ya, lo)           26\n",
       "(get, home, safe)        24\n",
       "(bless, day, christ)     24\n",
       "(x, x, haha)             23\n",
       "(get, well, soon)        23\n",
       "(u, r, u)                23\n",
       "(wat, r, u)              23\n",
       "(love, u, much)          22\n",
       "(go, slp, le)            22\n",
       "(love, u, dear)          21"
      ]
     },
     "execution_count": 42,
     "metadata": {},
     "output_type": "execute_result"
    }
   ],
   "source": [
    "# checking  most common tri-grams (3 words)\n",
    "n_gram = 3\n",
    "n_gram_dic = dict(Counter(ngrams(list_tokenized_words, n_gram)))\n",
    "bigrams=pd.DataFrame.from_dict(n_gram_dic, orient='index', columns=['count']).sort_values(by='count', ascending=False).head(25)\n",
    "bigrams"
   ]
  },
  {
   "cell_type": "markdown",
   "id": "5395574c",
   "metadata": {},
   "source": [
    "Tri-gramms provide us with some addtional but not essential information, such as \"(may, ble, u)\" and \"(prais, lord, bless)\", which are some more expression of wish, typically said to the family and friends in some countries. Plus, we have some other 3-word expressions such as \"get well soon\", \"how are you\" (hw, r, u), \"get home safe\" (get, home, safe), \"love you [very] much\"(love, u, much) etc."
   ]
  },
  {
   "cell_type": "markdown",
   "id": "4b59a3f7",
   "metadata": {},
   "source": [
    "## TERM FREQUENCY – INVERSE DOCUMENT FREQUENCY"
   ]
  },
  {
   "cell_type": "markdown",
   "id": "3c92d380",
   "metadata": {},
   "source": [
    "Term frequency-inverse document frequency, known as tf-idf, is a numerical statistic used to indicate how important a word is to each document in a collection of documents. Term frequency is how often a word appears in a document. This is the same as bag-of-words’ word count . Inverse document frequency is a measure of how often a word appears across all documents of a corpus."
   ]
  },
  {
   "cell_type": "markdown",
   "id": "487906a3",
   "metadata": {},
   "source": [
    "Here we will be identifying and organizing sms by topic. \n",
    "We will use term frequency-inverse document frequency (tf-idf) to analyze severeal sms content and uncover the terms that best describe each sms, providing quick insight into each article’s topic. It is a bit challenging due to that SMS are too short, they contain informal language and often implement incorrect grammar. Nevertheless, it is done as per training purposes."
   ]
  },
  {
   "cell_type": "code",
   "execution_count": 43,
   "id": "59ff9dbc",
   "metadata": {},
   "outputs": [],
   "source": [
    "from nltk.corpus import wordnet\n",
    "from nltk.stem import WordNetLemmatizer\n",
    "normalizer = WordNetLemmatizer()\n",
    "\n",
    "def get_part_of_speech(word):\n",
    "  probable_part_of_speech = wordnet.synsets(word)\n",
    "  pos_counts = Counter()\n",
    "  pos_counts[\"n\"] = len(  [ item for item in probable_part_of_speech if item.pos()==\"n\"]  )\n",
    "  pos_counts[\"v\"] = len(  [ item for item in probable_part_of_speech if item.pos()==\"v\"]  )\n",
    "  pos_counts[\"a\"] = len(  [ item for item in probable_part_of_speech if item.pos()==\"a\"]  )\n",
    "  pos_counts[\"r\"] = len(  [ item for item in probable_part_of_speech if item.pos()==\"r\"]  )\n",
    "  most_likely_part_of_speech = pos_counts.most_common(1)[0][0]\n",
    "  return most_likely_part_of_speech\n",
    "## sms were already preprocessed\n",
    "# def preprocess_text(text):\n",
    "#   cleaned = re.sub(r'\\W+', ' ', text).lower()\n",
    "#   tokenized = word_tokenize(cleaned)\n",
    "#   normalized = \" \".join([normalizer.lemmatize(token, get_part_of_speech(token)) for token in tokenized if not re.match(r'\\d+',token)])\n",
    "#   return normalized"
   ]
  },
  {
   "cell_type": "code",
   "execution_count": 91,
   "id": "688efc73",
   "metadata": {},
   "outputs": [],
   "source": [
    "# let's use first 10 sms for our training purposes \n",
    "articles = sms_one_list[:10]"
   ]
  },
  {
   "cell_type": "code",
   "execution_count": 45,
   "id": "db7aedc8",
   "metadata": {},
   "outputs": [
    {
     "name": "stdout",
     "output_type": "stream",
     "text": [
      "  Are the tf-idf scores the same?\n",
      "0                             YES\n",
      "Article 1    near\n",
      "dtype: object\n",
      "Article 2    amor\n",
      "dtype: object\n",
      "Article 3    dunno\n",
      "dtype: object\n",
      "Article 4    eat\n",
      "dtype: object\n",
      "Article 5    la\n",
      "dtype: object\n",
      "Article 6    citylink\n",
      "dtype: object\n",
      "Article 7    ex\n",
      "dtype: object\n",
      "Article 8    breakfast\n",
      "dtype: object\n",
      "Article 9    ubi\n",
      "dtype: object\n",
      "Article 10    mayb\n",
      "dtype: object\n"
     ]
    }
   ],
   "source": [
    "from sklearn.feature_extraction.text import CountVectorizer, TfidfTransformer,TfidfVectorizer\n",
    "\n",
    "processed_articles = articles # already preprocessed, otherwise use the preprosess function below\n",
    "# processed_articles = []\n",
    "# for article in articles:\n",
    "#   processed_articles.append(preprocess_text(article))\n",
    "# or it can be done like this\n",
    "# processed_articles = [preprocess_text(article) for article in articles]\n",
    "\n",
    "# initialize and fit CountVectorizer\n",
    "vectorizer = CountVectorizer()\n",
    "counts = vectorizer.fit_transform(processed_articles)\n",
    "# convert counts to tf-idf\n",
    "transformer = TfidfTransformer(norm=None)\n",
    "\n",
    "# initialize and fit TfidfVectorizer\n",
    "tfidf_scores_transformed = transformer.fit_transform(counts)\n",
    "# check if tf-idf scores are equal\n",
    "vectorizer = TfidfVectorizer(norm=None)\n",
    "tfidf_scores = vectorizer.fit_transform(processed_articles)\n",
    "\n",
    "# Let’s confirm that the tf-idf scores given by TfidfTransformer and TfidfVectorizer are the same.\n",
    "if np.allclose(tfidf_scores_transformed.todense(), tfidf_scores.todense()):\n",
    "  print(pd.DataFrame({'Are the tf-idf scores the same?':['Yes, all OK']}))\n",
    "else:\n",
    "  print(pd.DataFrame({'Are the tf-idf scores the same?':['No, something is wrong :(']}))\n",
    "\n",
    "# get vocabulary of terms\n",
    "try:\n",
    "  feature_names = vectorizer.get_feature_names()\n",
    "except:\n",
    "  pass\n",
    "\n",
    "# get article index\n",
    "try:\n",
    "  article_index = [f\"SMS {i+1}\" for i in range(len(articles))]\n",
    "except:\n",
    "  pass\n",
    "\n",
    "# create pandas DataFrame with word counts\n",
    "try:\n",
    "  df_word_counts = pd.DataFrame(counts.T.todense(), index=feature_names, columns=article_index)\n",
    " # print(df_word_counts)\n",
    "except:\n",
    "  pass\n",
    "\n",
    "# create pandas DataFrame(s) with tf-idf scores\n",
    "try:\n",
    "  df_tf_idf = pd.DataFrame(tfidf_scores_transformed.T.todense(), index=feature_names, columns=article_index)\n",
    "  #print(df_tf_idf)\n",
    "except:\n",
    "  pass\n",
    "\n",
    "try:\n",
    "  df_tf_idf = pd.DataFrame(tfidf_scores.T.todense(), index=feature_names, columns=article_index)\n",
    "  #print(df_tf_idf)\n",
    "except:\n",
    "  pass\n",
    "\n",
    "# get highest scoring tf-idf term for each article\n",
    "# The Pandas Series method .idxmax() is a helpful tool for returning the index of the highest value in a DataFrame column.\n",
    "for i in range(1,11):\n",
    "  print(df_tf_idf[[f'SMS {i}']].idxmax())\n"
   ]
  },
  {
   "cell_type": "markdown",
   "id": "61f23cc3",
   "metadata": {},
   "source": [
    "So here we can see how Term frequency-inverse document frequency works. Our first 10 sms have received the topic name, based on the content. Of course it is very far from good, as per low amount of words in each sms. \n",
    "The most import was see how it works and in the future use it for newspapers or emails topics identifications, for example. Nevertheless, at least it can be used to try to give the meaningful subject name to those SMS."
   ]
  },
  {
   "cell_type": "markdown",
   "id": "d91471ea",
   "metadata": {},
   "source": [
    "## WORD EMBEDDINGS"
   ]
  },
  {
   "cell_type": "markdown",
   "id": "87a648c0",
   "metadata": {},
   "source": [
    "This sections is also done more for training purposes.In here, suing our SMS corpus, we gonna check words with often go together with some given words, which can provide us with some insights about specific topics. In this case, we have decided to check on words 'love' and 'eat'.\n",
    "\n",
    "Depending on the corpus of text we select to train a word embedding model, different word embeddings will be created according to the context of the words in the given corpus. \n",
    "\n",
    "With gensim, we are able to build our own word embeddings on any corpus of text we like (which differs it from embedding models stored in spaCy which were trained, using word2vec, on blog posts and news articles collected by the Linguistic Data Consortium)."
   ]
  },
  {
   "cell_type": "code",
   "execution_count": 67,
   "id": "75256feb",
   "metadata": {},
   "outputs": [],
   "source": [
    "import os\n",
    "import gensim\n",
    "import spacy"
   ]
  },
  {
   "cell_type": "code",
   "execution_count": 73,
   "id": "0effe94b",
   "metadata": {},
   "outputs": [
    {
     "data": {
      "text/plain": [
       "[('ge', 0.9730767011642456),\n",
       " ('week', 0.9727085828781128),\n",
       " ('parent', 0.9724812507629395),\n",
       " ('hear', 0.9724469184875488),\n",
       " ('friend', 0.9722882509231567),\n",
       " ('anyth', 0.9722860455513),\n",
       " ('later', 0.9722845554351807),\n",
       " ('mrt', 0.9722504615783691),\n",
       " ('hungri', 0.9722495675086975),\n",
       " ('sch', 0.9722294807434082)]"
      ]
     },
     "execution_count": 73,
     "metadata": {},
     "output_type": "execute_result"
    }
   ],
   "source": [
    "# we need list of lists\n",
    "new_list_tokenized_words = []\n",
    "new_list_tokenized_words.append(list_tokenized_words)\n",
    "\n",
    "model = gensim.models.Word2Vec(new_list_tokenized_words, window=5, min_count=1, workers=2, sg=1)\n",
    "\n",
    "# chechink similar words to the given one among the corpus\n",
    "similar = model.wv.most_similar(\"love\", topn=10)\n",
    "similar"
   ]
  },
  {
   "cell_type": "markdown",
   "id": "7141a3e5",
   "metadata": {},
   "source": [
    "So, we see that \"love\" is embedded, or goes together with the words \"parent\", \"friend\", \"week\", \"later\". Curiously, \"hungri' is also among top ten closest to \"love\"."
   ]
  },
  {
   "cell_type": "code",
   "execution_count": 79,
   "id": "721d29b6",
   "metadata": {},
   "outputs": [
    {
     "data": {
      "text/plain": [
       "[('w', 0.9996060729026794),\n",
       " ('come', 0.9995976686477661),\n",
       " ('dinner', 0.9995941519737244),\n",
       " ('go', 0.999589741230011),\n",
       " ('c', 0.999581515789032),\n",
       " ('meet', 0.9995771646499634),\n",
       " ('r', 0.9995745420455933),\n",
       " ('lunch', 0.9995658993721008),\n",
       " ('u', 0.9995586276054382),\n",
       " ('say', 0.999539852142334)]"
      ]
     },
     "execution_count": 79,
     "metadata": {},
     "output_type": "execute_result"
    }
   ],
   "source": [
    "# one more\n",
    "similar = model.wv.most_similar(\"eat\", topn=10)\n",
    "similar"
   ]
  },
  {
   "cell_type": "markdown",
   "id": "6c26ae35",
   "metadata": {},
   "source": [
    "\"Eat\" is embedded by typical words such as \"dinner\" and \"luch\" and related verds as \"come\", \"meet\", \"say\" indicating the invitation to share or comunicate the eating time. Contrary to \"love\", \"hungri' is not in the top ten closest to \"eat\", which shows that our corpus is a specific one, but also we we check the weights \"eat\" top-ten are all mora than 0.99, so any word to \"eat\" similarity relation is closer, that \"love\"-\"hungri\" relation."
   ]
  },
  {
   "cell_type": "markdown",
   "id": "8271e994",
   "metadata": {},
   "source": [
    "Now let's do the same on the different corpus, let's only use SMS from USA and compare the embeddings for \"love\" and \"eat\"."
   ]
  },
  {
   "cell_type": "code",
   "execution_count": 83,
   "id": "17383d8c",
   "metadata": {},
   "outputs": [
    {
     "data": {
      "text/plain": [
       "[('much', 0.9990376234054565),\n",
       " ('mean', 0.9989066123962402),\n",
       " ('call', 0.9989017844200134),\n",
       " ('co', 0.9988813996315002),\n",
       " ('trip', 0.9988581538200378),\n",
       " ('use', 0.998850405216217),\n",
       " ('class', 0.998844563961029),\n",
       " ('also', 0.9988216161727905),\n",
       " ('time', 0.9988163113594055),\n",
       " ('cant', 0.9988049864768982)]"
      ]
     },
     "execution_count": 83,
     "metadata": {},
     "output_type": "execute_result"
    }
   ],
   "source": [
    "# let's check the same on oanother corpus, sms from USA only, filltering our dataframe and performing the same actions\n",
    "df_usa = df[df['country'] == 'United States']\n",
    "list_tokenized_words = \" \".join(df_usa[\"Message_processed\"]).split()\n",
    "new_list_tokenized_words = []\n",
    "new_list_tokenized_words.append(list_tokenized_words)\n",
    "\n",
    "model = gensim.models.Word2Vec(new_list_tokenized_words, window=5, min_count=1, workers=2, sg=1)\n",
    "\n",
    "# similar \n",
    "similar = model.wv.most_similar(\"love\", topn=10)\n",
    "similar"
   ]
  },
  {
   "cell_type": "code",
   "execution_count": 84,
   "id": "5e0e5311",
   "metadata": {},
   "outputs": [
    {
     "data": {
      "text/plain": [
       "[('ask', 0.9988927245140076),\n",
       " ('come', 0.9988200664520264),\n",
       " ('put', 0.9988090991973877),\n",
       " ('back', 0.9988078474998474),\n",
       " ('omw', 0.9987874627113342),\n",
       " ('say', 0.9987626075744629),\n",
       " ('text', 0.9987473487854004),\n",
       " ('time', 0.9987466931343079),\n",
       " ('mayb', 0.9987430572509766),\n",
       " ('friend', 0.9987116456031799)]"
      ]
     },
     "execution_count": 84,
     "metadata": {},
     "output_type": "execute_result"
    }
   ],
   "source": [
    "similar = model.wv.most_similar(\"eat\", topn=10)\n",
    "similar"
   ]
  },
  {
   "cell_type": "markdown",
   "id": "c93b0cd4",
   "metadata": {},
   "source": [
    "The results are quite different, we don't have more relatives and friends in the \"love\" embeddings, it's is more used with \"much\", \"call\", \"cant\" and, curiously with \"trip\". However, \"eat\" now appears with \"friend\". So, depends on the corpus, the use of the words and the situations they are implemented mostly may change."
   ]
  },
  {
   "cell_type": "markdown",
   "id": "b2da1ed8",
   "metadata": {},
   "source": [
    "## Conclusion"
   ]
  },
  {
   "cell_type": "markdown",
   "id": "48d8d3f3",
   "metadata": {},
   "source": [
    "WIn this project we have been investigating data on 50K short text messages, being text analysis our main objective.\n",
    "First, we have studied dataset in general in order to better understand the data we have, then we preprocessed the text data, then we have conducted several NLP techniques. This permited us to gain quite a lot of insights into the text data and see how those tenquniques are working."
   ]
  }
 ],
 "metadata": {
  "kernelspec": {
   "display_name": "Python 3",
   "language": "python",
   "name": "python3"
  },
  "language_info": {
   "codemirror_mode": {
    "name": "ipython",
    "version": 3
   },
   "file_extension": ".py",
   "mimetype": "text/x-python",
   "name": "python",
   "nbconvert_exporter": "python",
   "pygments_lexer": "ipython3",
   "version": "3.8.8"
  },
  "toc": {
   "base_numbering": 1,
   "nav_menu": {},
   "number_sections": true,
   "sideBar": true,
   "skip_h1_title": false,
   "title_cell": "Table of Contents",
   "title_sidebar": "Contents",
   "toc_cell": false,
   "toc_position": {},
   "toc_section_display": true,
   "toc_window_display": false
  }
 },
 "nbformat": 4,
 "nbformat_minor": 5
}
